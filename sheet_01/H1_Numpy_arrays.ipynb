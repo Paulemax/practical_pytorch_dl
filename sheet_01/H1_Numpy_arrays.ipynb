{
 "cells": [
  {
   "cell_type": "code",
   "execution_count": 1,
   "id": "a11a7e2c",
   "metadata": {},
   "outputs": [],
   "source": [
    "import numpy as np"
   ]
  },
  {
   "cell_type": "markdown",
   "id": "d2d1a8de",
   "metadata": {},
   "source": [
    "### 1) Create 2 arrays: one of 10 zeros and another of 10 ones"
   ]
  },
  {
   "cell_type": "code",
   "execution_count": 4,
   "id": "cbc5fae2",
   "metadata": {},
   "outputs": [
    {
     "data": {
      "text/plain": [
       "array([0., 0., 0., 0., 0., 0., 0., 0., 0., 0.])"
      ]
     },
     "execution_count": 4,
     "metadata": {},
     "output_type": "execute_result"
    }
   ],
   "source": [
    "# code here\n",
    "zeroes = np.zeros(shape=(10,))\n",
    "zeroes"
   ]
  },
  {
   "cell_type": "code",
   "execution_count": 6,
   "id": "9f733fa8",
   "metadata": {},
   "outputs": [
    {
     "data": {
      "text/plain": [
       "array([0., 0., 0., 0., 0., 0., 0., 0., 0., 0.])"
      ]
     },
     "execution_count": 6,
     "metadata": {},
     "output_type": "execute_result"
    }
   ],
   "source": [
    "# don't code here."
   ]
  },
  {
   "cell_type": "code",
   "execution_count": 3,
   "id": "1c970f4b",
   "metadata": {},
   "outputs": [
    {
     "data": {
      "text/plain": [
       "array([1., 1., 1., 1., 1., 1., 1., 1., 1., 1.])"
      ]
     },
     "execution_count": 3,
     "metadata": {},
     "output_type": "execute_result"
    }
   ],
   "source": [
    "# code here\n",
    "ones = np.ones(shape=(10,))\n",
    "ones"
   ]
  },
  {
   "cell_type": "code",
   "execution_count": 9,
   "id": "de6fa158",
   "metadata": {},
   "outputs": [
    {
     "data": {
      "text/plain": [
       "array([1., 1., 1., 1., 1., 1., 1., 1., 1., 1.])"
      ]
     },
     "execution_count": 9,
     "metadata": {},
     "output_type": "execute_result"
    }
   ],
   "source": [
    "# don't code here."
   ]
  },
  {
   "cell_type": "markdown",
   "id": "b19f0ada",
   "metadata": {},
   "source": [
    "### 2) Create an array of 5 sevens"
   ]
  },
  {
   "cell_type": "code",
   "execution_count": 6,
   "id": "2806f6c5",
   "metadata": {},
   "outputs": [
    {
     "data": {
      "text/plain": [
       "array([7., 7., 7., 7., 7.])"
      ]
     },
     "execution_count": 6,
     "metadata": {},
     "output_type": "execute_result"
    }
   ],
   "source": [
    "# code here\n",
    "sevens = np.ones(shape=(5,)) * 7\n",
    "sevens"
   ]
  },
  {
   "cell_type": "code",
   "execution_count": 11,
   "id": "e7322d7f",
   "metadata": {},
   "outputs": [
    {
     "data": {
      "text/plain": [
       "array([7, 7, 7, 7, 7])"
      ]
     },
     "execution_count": 11,
     "metadata": {},
     "output_type": "execute_result"
    }
   ],
   "source": [
    "# don't code here"
   ]
  },
  {
   "cell_type": "markdown",
   "id": "0925b606",
   "metadata": {},
   "source": [
    "### 3) Create an array of integers from 5 to 20 inclusive"
   ]
  },
  {
   "cell_type": "code",
   "execution_count": 8,
   "id": "f7339814",
   "metadata": {},
   "outputs": [
    {
     "data": {
      "text/plain": [
       "array([ 5,  6,  7,  8,  9, 10, 11, 12, 13, 14, 15, 16, 17, 18, 19, 20])"
      ]
     },
     "execution_count": 8,
     "metadata": {},
     "output_type": "execute_result"
    }
   ],
   "source": [
    "# code here\n",
    "np.arange(5, 21)"
   ]
  },
  {
   "cell_type": "code",
   "execution_count": 14,
   "id": "14a3794e",
   "metadata": {},
   "outputs": [
    {
     "data": {
      "text/plain": [
       "array([ 5,  6,  7,  8,  9, 10, 11, 12, 13, 14, 15, 16, 17, 18, 19, 20])"
      ]
     },
     "execution_count": 14,
     "metadata": {},
     "output_type": "execute_result"
    }
   ],
   "source": [
    "# don't code here"
   ]
  },
  {
   "cell_type": "markdown",
   "id": "b63fa8e1",
   "metadata": {},
   "source": [
    "### 4) Create an array which contains all the even integers from 0 to 20 inclusive"
   ]
  },
  {
   "cell_type": "code",
   "execution_count": 9,
   "id": "72032670",
   "metadata": {},
   "outputs": [
    {
     "data": {
      "text/plain": [
       "array([ 0,  2,  4,  6,  8, 10, 12, 14, 16, 18, 20])"
      ]
     },
     "execution_count": 9,
     "metadata": {},
     "output_type": "execute_result"
    }
   ],
   "source": [
    "# code here\n",
    "np.arange(0, 11) * 2"
   ]
  },
  {
   "cell_type": "code",
   "execution_count": 17,
   "id": "05f7b132",
   "metadata": {},
   "outputs": [
    {
     "data": {
      "text/plain": [
       "array([ 2,  4,  6,  8, 10, 12, 14, 16, 18, 20])"
      ]
     },
     "execution_count": 17,
     "metadata": {},
     "output_type": "execute_result"
    }
   ],
   "source": [
    "# don't code here"
   ]
  },
  {
   "cell_type": "markdown",
   "id": "3728d35e",
   "metadata": {},
   "source": [
    "### 5) Create an identity matrix of 5x5"
   ]
  },
  {
   "cell_type": "code",
   "execution_count": 10,
   "id": "e5aa16fd",
   "metadata": {},
   "outputs": [
    {
     "data": {
      "text/plain": [
       "array([[1., 0., 0., 0., 0.],\n",
       "       [0., 1., 0., 0., 0.],\n",
       "       [0., 0., 1., 0., 0.],\n",
       "       [0., 0., 0., 1., 0.],\n",
       "       [0., 0., 0., 0., 1.]])"
      ]
     },
     "execution_count": 10,
     "metadata": {},
     "output_type": "execute_result"
    }
   ],
   "source": [
    "# code here\n",
    "np.eye(5)"
   ]
  },
  {
   "cell_type": "code",
   "execution_count": 19,
   "id": "087c368d",
   "metadata": {},
   "outputs": [
    {
     "data": {
      "text/plain": [
       "array([[1., 0., 0., 0., 0.],\n",
       "       [0., 1., 0., 0., 0.],\n",
       "       [0., 0., 1., 0., 0.],\n",
       "       [0., 0., 0., 1., 0.],\n",
       "       [0., 0., 0., 0., 1.]])"
      ]
     },
     "execution_count": 19,
     "metadata": {},
     "output_type": "execute_result"
    }
   ],
   "source": [
    "# don't code here"
   ]
  },
  {
   "cell_type": "markdown",
   "id": "d52a567a",
   "metadata": {},
   "source": [
    "### 6) Use numpy to generate any random number between 0 and 1"
   ]
  },
  {
   "cell_type": "code",
   "execution_count": 11,
   "id": "5632dc87",
   "metadata": {},
   "outputs": [
    {
     "data": {
      "text/plain": [
       "array([0.36547562])"
      ]
     },
     "execution_count": 11,
     "metadata": {},
     "output_type": "execute_result"
    }
   ],
   "source": [
    "# code here\n",
    "np.random.random(size=(1))"
   ]
  },
  {
   "cell_type": "code",
   "execution_count": 21,
   "id": "dee75bd0",
   "metadata": {},
   "outputs": [
    {
     "data": {
      "text/plain": [
       "array([0.11238367])"
      ]
     },
     "execution_count": 21,
     "metadata": {},
     "output_type": "execute_result"
    }
   ],
   "source": [
    "# don't code here"
   ]
  },
  {
   "cell_type": "markdown",
   "id": "50468053",
   "metadata": {},
   "source": [
    "### 7) Use numpy the same random number between 0 and 1 3 times"
   ]
  },
  {
   "cell_type": "code",
   "execution_count": 19,
   "id": "a2af305f",
   "metadata": {},
   "outputs": [
    {
     "data": {
      "text/plain": [
       "array([0.37454012])"
      ]
     },
     "execution_count": 19,
     "metadata": {},
     "output_type": "execute_result"
    }
   ],
   "source": [
    "# code here\n",
    "np.random.seed(42)\n",
    "np.random.random(size=(1))"
   ]
  },
  {
   "cell_type": "code",
   "execution_count": 17,
   "id": "8fc48f49",
   "metadata": {},
   "outputs": [
    {
     "data": {
      "text/plain": [
       "array([0.37454012])"
      ]
     },
     "execution_count": 17,
     "metadata": {},
     "output_type": "execute_result"
    }
   ],
   "source": [
    "# code here\n",
    "np.random.seed(42)\n",
    "np.random.random(size=(1))"
   ]
  },
  {
   "cell_type": "code",
   "execution_count": 18,
   "id": "5591a6bf",
   "metadata": {},
   "outputs": [
    {
     "data": {
      "text/plain": [
       "array([0.37454012])"
      ]
     },
     "execution_count": 18,
     "metadata": {},
     "output_type": "execute_result"
    }
   ],
   "source": [
    "# code here\n",
    "np.random.seed(42)\n",
    "np.random.random(size=(1))"
   ]
  },
  {
   "cell_type": "code",
   "execution_count": 24,
   "id": "9d4b6910",
   "metadata": {},
   "outputs": [
    {
     "data": {
      "text/plain": [
       "array([0.417022])"
      ]
     },
     "execution_count": 24,
     "metadata": {},
     "output_type": "execute_result"
    }
   ],
   "source": [
    "# don't code here"
   ]
  },
  {
   "cell_type": "code",
   "execution_count": 25,
   "id": "8e77e3a0",
   "metadata": {},
   "outputs": [
    {
     "data": {
      "text/plain": [
       "array([0.417022])"
      ]
     },
     "execution_count": 25,
     "metadata": {},
     "output_type": "execute_result"
    }
   ],
   "source": [
    "# don't code here"
   ]
  },
  {
   "cell_type": "code",
   "execution_count": 26,
   "id": "34e5091c",
   "metadata": {},
   "outputs": [
    {
     "data": {
      "text/plain": [
       "array([0.417022])"
      ]
     },
     "execution_count": 26,
     "metadata": {},
     "output_type": "execute_result"
    }
   ],
   "source": [
    "# don't code here"
   ]
  },
  {
   "cell_type": "markdown",
   "id": "77fa0c19",
   "metadata": {},
   "source": [
    "### 8)  Create 10 random numbers from a standard normal distribution"
   ]
  },
  {
   "cell_type": "code",
   "execution_count": 20,
   "id": "17e21bdb",
   "metadata": {},
   "outputs": [
    {
     "data": {
      "text/plain": [
       "array([-1.11188012,  0.31890218,  0.27904129,  1.01051528, -0.58087813,\n",
       "       -0.52516981, -0.57138017, -0.92408284, -2.61254901,  0.95036968])"
      ]
     },
     "execution_count": 20,
     "metadata": {},
     "output_type": "execute_result"
    }
   ],
   "source": [
    "# code here\n",
    "np.random.normal(size=(10,))"
   ]
  },
  {
   "cell_type": "code",
   "execution_count": 29,
   "id": "11a50f88",
   "metadata": {},
   "outputs": [
    {
     "data": {
      "text/plain": [
       "array([-0.80217284, -0.44887781, -1.10593508, -1.65451545, -2.3634686 ,\n",
       "        1.13534535, -1.01701414,  0.63736181, -0.85990661,  1.77260763])"
      ]
     },
     "execution_count": 29,
     "metadata": {},
     "output_type": "execute_result"
    }
   ],
   "source": [
    "# don't code here"
   ]
  },
  {
   "cell_type": "markdown",
   "id": "5382bea5",
   "metadata": {},
   "source": [
    "### 9) Create the following matrix and assign it to a variable "
   ]
  },
  {
   "cell_type": "code",
   "execution_count": 32,
   "id": "b6368d49",
   "metadata": {},
   "outputs": [
    {
     "data": {
      "text/plain": [
       "array([[0.  , 0.01, 0.02, 0.03, 0.04, 0.05, 0.06, 0.07, 0.08, 0.09],\n",
       "       [0.1 , 0.11, 0.12, 0.13, 0.14, 0.15, 0.16, 0.17, 0.18, 0.19],\n",
       "       [0.2 , 0.21, 0.22, 0.23, 0.24, 0.25, 0.26, 0.27, 0.28, 0.29],\n",
       "       [0.3 , 0.31, 0.32, 0.33, 0.34, 0.35, 0.36, 0.37, 0.38, 0.39],\n",
       "       [0.4 , 0.41, 0.42, 0.43, 0.44, 0.45, 0.46, 0.47, 0.48, 0.49],\n",
       "       [0.5 , 0.51, 0.52, 0.53, 0.54, 0.55, 0.56, 0.57, 0.58, 0.59],\n",
       "       [0.6 , 0.61, 0.62, 0.63, 0.64, 0.65, 0.66, 0.67, 0.68, 0.69],\n",
       "       [0.7 , 0.71, 0.72, 0.73, 0.74, 0.75, 0.76, 0.77, 0.78, 0.79],\n",
       "       [0.8 , 0.81, 0.82, 0.83, 0.84, 0.85, 0.86, 0.87, 0.88, 0.89],\n",
       "       [0.9 , 0.91, 0.92, 0.93, 0.94, 0.95, 0.96, 0.97, 0.98, 0.99]])"
      ]
     },
     "execution_count": 32,
     "metadata": {},
     "output_type": "execute_result"
    }
   ],
   "source": [
    "# don't code here"
   ]
  },
  {
   "cell_type": "code",
   "execution_count": 23,
   "id": "459c1b4c",
   "metadata": {},
   "outputs": [
    {
     "data": {
      "text/plain": [
       "array([[0.  , 0.01, 0.02, 0.03, 0.04, 0.05, 0.06, 0.07, 0.08, 0.09],\n",
       "       [0.1 , 0.11, 0.12, 0.13, 0.14, 0.15, 0.16, 0.17, 0.18, 0.19],\n",
       "       [0.2 , 0.21, 0.22, 0.23, 0.24, 0.25, 0.26, 0.27, 0.28, 0.29],\n",
       "       [0.3 , 0.31, 0.32, 0.33, 0.34, 0.35, 0.36, 0.37, 0.38, 0.39],\n",
       "       [0.4 , 0.41, 0.42, 0.43, 0.44, 0.45, 0.46, 0.47, 0.48, 0.49],\n",
       "       [0.5 , 0.51, 0.52, 0.53, 0.54, 0.55, 0.56, 0.57, 0.58, 0.59],\n",
       "       [0.6 , 0.61, 0.62, 0.63, 0.64, 0.65, 0.66, 0.67, 0.68, 0.69],\n",
       "       [0.7 , 0.71, 0.72, 0.73, 0.74, 0.75, 0.76, 0.77, 0.78, 0.79],\n",
       "       [0.8 , 0.81, 0.82, 0.83, 0.84, 0.85, 0.86, 0.87, 0.88, 0.89],\n",
       "       [0.9 , 0.91, 0.92, 0.93, 0.94, 0.95, 0.96, 0.97, 0.98, 0.99]])"
      ]
     },
     "execution_count": 23,
     "metadata": {},
     "output_type": "execute_result"
    }
   ],
   "source": [
    "# code here\n",
    "mat = np.arange(0, 1, step=0.01).reshape(10, 10)\n",
    "mat"
   ]
  },
  {
   "cell_type": "markdown",
   "id": "e8d1d69d",
   "metadata": {},
   "source": [
    "### 10) index the last array to see the following results."
   ]
  },
  {
   "cell_type": "code",
   "execution_count": 36,
   "id": "a3a3333d",
   "metadata": {},
   "outputs": [
    {
     "data": {
      "text/plain": [
       "array([[0.55, 0.56],\n",
       "       [0.65, 0.66]])"
      ]
     },
     "execution_count": 36,
     "metadata": {},
     "output_type": "execute_result"
    }
   ],
   "source": [
    "# DON'T CODE HERE!"
   ]
  },
  {
   "cell_type": "code",
   "execution_count": 25,
   "id": "67372318",
   "metadata": {},
   "outputs": [
    {
     "data": {
      "text/plain": [
       "array([[0.55, 0.56],\n",
       "       [0.65, 0.66]])"
      ]
     },
     "execution_count": 25,
     "metadata": {},
     "output_type": "execute_result"
    }
   ],
   "source": [
    "# code here\n",
    "mat[5:7, 5:7]"
   ]
  },
  {
   "cell_type": "markdown",
   "id": "e4fedafe",
   "metadata": {},
   "source": [
    "### 11) index the last array to obtain the following result"
   ]
  },
  {
   "cell_type": "code",
   "execution_count": 38,
   "id": "7ef2ebef",
   "metadata": {},
   "outputs": [
    {
     "data": {
      "text/plain": [
       "0.01"
      ]
     },
     "execution_count": 38,
     "metadata": {},
     "output_type": "execute_result"
    }
   ],
   "source": [
    "# DON'T CODE HERE!"
   ]
  },
  {
   "cell_type": "code",
   "execution_count": 27,
   "id": "7a6aa95c",
   "metadata": {},
   "outputs": [
    {
     "data": {
      "text/plain": [
       "0.01"
      ]
     },
     "execution_count": 27,
     "metadata": {},
     "output_type": "execute_result"
    }
   ],
   "source": [
    "# code here\n",
    "mat[0, 1]"
   ]
  },
  {
   "cell_type": "markdown",
   "id": "980b4eb5",
   "metadata": {},
   "source": [
    "### 12) reshape the last array to obtain the following result"
   ]
  },
  {
   "cell_type": "code",
   "execution_count": 40,
   "id": "1b834356",
   "metadata": {},
   "outputs": [
    {
     "data": {
      "text/plain": [
       "array([0.  , 0.01, 0.02, 0.03, 0.04, 0.05, 0.06, 0.07, 0.08, 0.09, 0.1 ,\n",
       "       0.11, 0.12, 0.13, 0.14, 0.15, 0.16, 0.17, 0.18, 0.19, 0.2 , 0.21,\n",
       "       0.22, 0.23, 0.24, 0.25, 0.26, 0.27, 0.28, 0.29, 0.3 , 0.31, 0.32,\n",
       "       0.33, 0.34, 0.35, 0.36, 0.37, 0.38, 0.39, 0.4 , 0.41, 0.42, 0.43,\n",
       "       0.44, 0.45, 0.46, 0.47, 0.48, 0.49, 0.5 , 0.51, 0.52, 0.53, 0.54,\n",
       "       0.55, 0.56, 0.57, 0.58, 0.59, 0.6 , 0.61, 0.62, 0.63, 0.64, 0.65,\n",
       "       0.66, 0.67, 0.68, 0.69, 0.7 , 0.71, 0.72, 0.73, 0.74, 0.75, 0.76,\n",
       "       0.77, 0.78, 0.79, 0.8 , 0.81, 0.82, 0.83, 0.84, 0.85, 0.86, 0.87,\n",
       "       0.88, 0.89, 0.9 , 0.91, 0.92, 0.93, 0.94, 0.95, 0.96, 0.97, 0.98,\n",
       "       0.99])"
      ]
     },
     "execution_count": 40,
     "metadata": {},
     "output_type": "execute_result"
    }
   ],
   "source": [
    "# DON'T CODE HERE!"
   ]
  },
  {
   "cell_type": "code",
   "execution_count": 30,
   "id": "ee5d8929",
   "metadata": {},
   "outputs": [
    {
     "data": {
      "text/plain": [
       "array([0.  , 0.01, 0.02, 0.03, 0.04, 0.05, 0.06, 0.07, 0.08, 0.09, 0.1 ,\n",
       "       0.11, 0.12, 0.13, 0.14, 0.15, 0.16, 0.17, 0.18, 0.19, 0.2 , 0.21,\n",
       "       0.22, 0.23, 0.24, 0.25, 0.26, 0.27, 0.28, 0.29, 0.3 , 0.31, 0.32,\n",
       "       0.33, 0.34, 0.35, 0.36, 0.37, 0.38, 0.39, 0.4 , 0.41, 0.42, 0.43,\n",
       "       0.44, 0.45, 0.46, 0.47, 0.48, 0.49, 0.5 , 0.51, 0.52, 0.53, 0.54,\n",
       "       0.55, 0.56, 0.57, 0.58, 0.59, 0.6 , 0.61, 0.62, 0.63, 0.64, 0.65,\n",
       "       0.66, 0.67, 0.68, 0.69, 0.7 , 0.71, 0.72, 0.73, 0.74, 0.75, 0.76,\n",
       "       0.77, 0.78, 0.79, 0.8 , 0.81, 0.82, 0.83, 0.84, 0.85, 0.86, 0.87,\n",
       "       0.88, 0.89, 0.9 , 0.91, 0.92, 0.93, 0.94, 0.95, 0.96, 0.97, 0.98,\n",
       "       0.99])"
      ]
     },
     "execution_count": 30,
     "metadata": {},
     "output_type": "execute_result"
    }
   ],
   "source": [
    "# code here\n",
    "mat.reshape(100, )"
   ]
  },
  {
   "cell_type": "markdown",
   "id": "3210353d",
   "metadata": {},
   "source": [
    "### 13) index and reshape the last array to obtain the following result"
   ]
  },
  {
   "cell_type": "code",
   "execution_count": 43,
   "id": "ac2a8860",
   "metadata": {},
   "outputs": [
    {
     "data": {
      "text/plain": [
       "array([[0.  ],\n",
       "       [0.01],\n",
       "       [0.02],\n",
       "       [0.1 ],\n",
       "       [0.11],\n",
       "       [0.12],\n",
       "       [0.2 ],\n",
       "       [0.21],\n",
       "       [0.22]])"
      ]
     },
     "execution_count": 43,
     "metadata": {},
     "output_type": "execute_result"
    }
   ],
   "source": [
    "# DON'T CODE HERE!"
   ]
  },
  {
   "cell_type": "code",
   "execution_count": 37,
   "id": "45266e8c",
   "metadata": {},
   "outputs": [
    {
     "data": {
      "text/plain": [
       "array([[0.  ],\n",
       "       [0.01],\n",
       "       [0.02],\n",
       "       [0.1 ],\n",
       "       [0.11],\n",
       "       [0.12],\n",
       "       [0.2 ],\n",
       "       [0.21],\n",
       "       [0.22]])"
      ]
     },
     "execution_count": 37,
     "metadata": {},
     "output_type": "execute_result"
    }
   ],
   "source": [
    "# code here\n",
    "mat[0:3, 0:3].reshape(9, 1)"
   ]
  },
  {
   "cell_type": "markdown",
   "id": "226008f8",
   "metadata": {},
   "source": [
    "### 14) obtain the following statistics of the last array"
   ]
  },
  {
   "cell_type": "code",
   "execution_count": 45,
   "id": "724ef5b8",
   "metadata": {},
   "outputs": [
    {
     "data": {
      "text/plain": [
       "0.49499999999999994"
      ]
     },
     "execution_count": 45,
     "metadata": {},
     "output_type": "execute_result"
    }
   ],
   "source": [
    "# DON'T CODE HERE! \n",
    "# mean"
   ]
  },
  {
   "cell_type": "code",
   "execution_count": 38,
   "id": "1cfd0f2d",
   "metadata": {},
   "outputs": [
    {
     "data": {
      "text/plain": [
       "0.49499999999999994"
      ]
     },
     "execution_count": 38,
     "metadata": {},
     "output_type": "execute_result"
    }
   ],
   "source": [
    "# code here \n",
    "# mean\n",
    "mat.mean()"
   ]
  },
  {
   "cell_type": "code",
   "execution_count": 46,
   "id": "c85586bd",
   "metadata": {},
   "outputs": [
    {
     "data": {
      "text/plain": [
       "0.2886607004772212"
      ]
     },
     "execution_count": 46,
     "metadata": {},
     "output_type": "execute_result"
    }
   ],
   "source": [
    "# DON'T CODE HERE! \n",
    "# standard deviation"
   ]
  },
  {
   "cell_type": "code",
   "execution_count": 39,
   "id": "e28abe44",
   "metadata": {},
   "outputs": [
    {
     "data": {
      "text/plain": [
       "0.2886607004772212"
      ]
     },
     "execution_count": 39,
     "metadata": {},
     "output_type": "execute_result"
    }
   ],
   "source": [
    "# code here \n",
    "# standard deviation\n",
    "mat.std()"
   ]
  },
  {
   "cell_type": "code",
   "execution_count": 47,
   "id": "5e31d6cb",
   "metadata": {},
   "outputs": [
    {
     "data": {
      "text/plain": [
       "0.0"
      ]
     },
     "execution_count": 47,
     "metadata": {},
     "output_type": "execute_result"
    }
   ],
   "source": [
    "# DON'T CODE HERE!\n",
    "# minimum value"
   ]
  },
  {
   "cell_type": "code",
   "execution_count": 40,
   "id": "f263a89b",
   "metadata": {},
   "outputs": [
    {
     "data": {
      "text/plain": [
       "0.0"
      ]
     },
     "execution_count": 40,
     "metadata": {},
     "output_type": "execute_result"
    }
   ],
   "source": [
    "# code here\n",
    "# minimum value\n",
    "mat.min()"
   ]
  },
  {
   "cell_type": "code",
   "execution_count": 49,
   "id": "4132ebb5",
   "metadata": {},
   "outputs": [
    {
     "data": {
      "text/plain": [
       "0.99"
      ]
     },
     "execution_count": 49,
     "metadata": {},
     "output_type": "execute_result"
    }
   ],
   "source": [
    "# DON'T CODE HERE!\n",
    "# maximum value"
   ]
  },
  {
   "cell_type": "code",
   "execution_count": 41,
   "id": "ce3301a6",
   "metadata": {},
   "outputs": [
    {
     "data": {
      "text/plain": [
       "0.99"
      ]
     },
     "execution_count": 41,
     "metadata": {},
     "output_type": "execute_result"
    }
   ],
   "source": [
    "# code here\n",
    "# maximum value\n",
    "mat.max()"
   ]
  },
  {
   "cell_type": "code",
   "execution_count": 50,
   "id": "16270179",
   "metadata": {},
   "outputs": [
    {
     "data": {
      "text/plain": [
       "0.495"
      ]
     },
     "execution_count": 50,
     "metadata": {},
     "output_type": "execute_result"
    }
   ],
   "source": [
    "# DON'T CODE HERE! \n",
    "# median"
   ]
  },
  {
   "cell_type": "code",
   "execution_count": 43,
   "id": "7f060ee6",
   "metadata": {},
   "outputs": [
    {
     "data": {
      "text/plain": [
       "0.495"
      ]
     },
     "execution_count": 43,
     "metadata": {},
     "output_type": "execute_result"
    }
   ],
   "source": [
    "# code here\n",
    "# median\n",
    "np.median(mat)"
   ]
  },
  {
   "cell_type": "markdown",
   "id": "05d97f91",
   "metadata": {},
   "source": [
    "### 15) Re-asign the order of the array dimensions as follows"
   ]
  },
  {
   "cell_type": "code",
   "execution_count": 45,
   "id": "dc6878f6",
   "metadata": {},
   "outputs": [
    {
     "data": {
      "text/plain": [
       "(2, 64, 12)"
      ]
     },
     "execution_count": 45,
     "metadata": {},
     "output_type": "execute_result"
    }
   ],
   "source": [
    "# from this\n",
    "array = np.ones((2,64,12))\n",
    "array.shape"
   ]
  },
  {
   "cell_type": "code",
   "execution_count": 53,
   "id": "5d7e6c66",
   "metadata": {},
   "outputs": [
    {
     "data": {
      "text/plain": [
       "(12, 2, 64)"
      ]
     },
     "execution_count": 53,
     "metadata": {},
     "output_type": "execute_result"
    }
   ],
   "source": [
    "# DON'T CODE HERE\n",
    "# to this\n",
    "array.shape"
   ]
  },
  {
   "cell_type": "code",
   "execution_count": 52,
   "id": "1b8c8169",
   "metadata": {},
   "outputs": [
    {
     "data": {
      "text/plain": [
       "(12, 2, 64)"
      ]
     },
     "execution_count": 52,
     "metadata": {},
     "output_type": "execute_result"
    }
   ],
   "source": [
    "# code here\n",
    "array = array.reshape(12, 2, 64)\n",
    "array.shape"
   ]
  }
 ],
 "metadata": {
  "kernelspec": {
   "display_name": "Python 3.10.7 64-bit",
   "language": "python",
   "name": "python3"
  },
  "language_info": {
   "codemirror_mode": {
    "name": "ipython",
    "version": 3
   },
   "file_extension": ".py",
   "mimetype": "text/x-python",
   "name": "python",
   "nbconvert_exporter": "python",
   "pygments_lexer": "ipython3",
   "version": "3.10.7"
  },
  "vscode": {
   "interpreter": {
    "hash": "767d51c1340bd893661ea55ea3124f6de3c7a262a8b4abca0554b478b1e2ff90"
   }
  }
 },
 "nbformat": 4,
 "nbformat_minor": 5
}
