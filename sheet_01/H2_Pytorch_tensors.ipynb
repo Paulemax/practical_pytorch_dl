{
 "cells": [
  {
   "cell_type": "code",
   "execution_count": 2,
   "id": "f67a7f45",
   "metadata": {},
   "outputs": [],
   "source": [
    "import numpy as np\n",
    "import torch "
   ]
  },
  {
   "cell_type": "markdown",
   "id": "a22fd880",
   "metadata": {},
   "source": [
    "### 1) Set numpy and torch seeds to 1"
   ]
  },
  {
   "cell_type": "code",
   "execution_count": 4,
   "id": "2099b6a5",
   "metadata": {},
   "outputs": [],
   "source": [
    "# code here\n",
    "np.random.seed(1)\n",
    "torch.random.seed = 1"
   ]
  },
  {
   "cell_type": "markdown",
   "id": "f9d422ba",
   "metadata": {},
   "source": [
    "### 2) Create and assign to a variable a numpy array called 'array' with 10 integer elements starting from 0"
   ]
  },
  {
   "cell_type": "code",
   "execution_count": 7,
   "id": "900eee73",
   "metadata": {},
   "outputs": [
    {
     "data": {
      "text/plain": [
       "array([0, 1, 2, 3, 4, 5, 6, 7, 8, 9])"
      ]
     },
     "execution_count": 7,
     "metadata": {},
     "output_type": "execute_result"
    }
   ],
   "source": [
    "# don't code here"
   ]
  },
  {
   "cell_type": "code",
   "execution_count": 23,
   "id": "b1f7b87b",
   "metadata": {},
   "outputs": [
    {
     "data": {
      "text/plain": [
       "array([0, 1, 2, 3, 4, 5, 6, 7, 8, 9])"
      ]
     },
     "execution_count": 23,
     "metadata": {},
     "output_type": "execute_result"
    }
   ],
   "source": [
    "# code here\n",
    "array = np.arange(0, 10, dtype=int)\n",
    "array"
   ]
  },
  {
   "cell_type": "markdown",
   "id": "39a727b6",
   "metadata": {},
   "source": [
    "### 3) Convert the last array variable to a pytorch tensor. Assign it to a new variable called 'tensor'."
   ]
  },
  {
   "cell_type": "code",
   "execution_count": 10,
   "id": "e7f4b647",
   "metadata": {},
   "outputs": [
    {
     "data": {
      "text/plain": [
       "tensor([0, 1, 2, 3, 4, 5, 6, 7, 8, 9], dtype=torch.int32)"
      ]
     },
     "execution_count": 10,
     "metadata": {},
     "output_type": "execute_result"
    }
   ],
   "source": [
    "# don't code here"
   ]
  },
  {
   "cell_type": "code",
   "execution_count": 39,
   "id": "76a22230",
   "metadata": {},
   "outputs": [
    {
     "data": {
      "text/plain": [
       "tensor([0, 1, 2, 3, 4, 5, 6, 7, 8, 9], dtype=torch.int32)"
      ]
     },
     "execution_count": 39,
     "metadata": {},
     "output_type": "execute_result"
    }
   ],
   "source": [
    "# code here\n",
    "tensor = torch.tensor(array, dtype=torch.int32)\n",
    "tensor"
   ]
  },
  {
   "cell_type": "markdown",
   "id": "ac649149",
   "metadata": {},
   "source": [
    "### 4) Convert tensor type from int32 to float32"
   ]
  },
  {
   "cell_type": "code",
   "execution_count": 14,
   "id": "f5a7a5f5",
   "metadata": {},
   "outputs": [
    {
     "data": {
      "text/plain": [
       "tensor([0., 1., 2., 3., 4., 5., 6., 7., 8., 9.])"
      ]
     },
     "execution_count": 14,
     "metadata": {},
     "output_type": "execute_result"
    }
   ],
   "source": [
    "# don't code here"
   ]
  },
  {
   "cell_type": "code",
   "execution_count": 40,
   "id": "52094637",
   "metadata": {},
   "outputs": [
    {
     "data": {
      "text/plain": [
       "tensor([0., 1., 2., 3., 4., 5., 6., 7., 8., 9.])"
      ]
     },
     "execution_count": 40,
     "metadata": {},
     "output_type": "execute_result"
    }
   ],
   "source": [
    "# code here\n",
    "tensor = tensor.type(dtype=torch.float32)\n",
    "tensor"
   ]
  },
  {
   "cell_type": "markdown",
   "id": "3bd8d937",
   "metadata": {},
   "source": [
    "### 5) Convert tensor type to LongTensor, equivalent to int64"
   ]
  },
  {
   "cell_type": "code",
   "execution_count": 20,
   "id": "aea807f9",
   "metadata": {},
   "outputs": [
    {
     "data": {
      "text/plain": [
       "torch.int64"
      ]
     },
     "execution_count": 20,
     "metadata": {},
     "output_type": "execute_result"
    }
   ],
   "source": [
    "# don't code here"
   ]
  },
  {
   "cell_type": "code",
   "execution_count": 41,
   "id": "9babca47",
   "metadata": {},
   "outputs": [
    {
     "data": {
      "text/plain": [
       "torch.int64"
      ]
     },
     "execution_count": 41,
     "metadata": {},
     "output_type": "execute_result"
    }
   ],
   "source": [
    "# code here\n",
    "tensor = tensor.type(torch.int64)\n",
    "tensor.dtype"
   ]
  },
  {
   "cell_type": "markdown",
   "id": "3d063535",
   "metadata": {},
   "source": [
    "### 6) Reshape tensor as a 2x5 and 5x2 tensors"
   ]
  },
  {
   "cell_type": "code",
   "execution_count": 24,
   "id": "ca4219fe",
   "metadata": {},
   "outputs": [
    {
     "data": {
      "text/plain": [
       "tensor([[0, 1, 2, 3, 4],\n",
       "        [5, 6, 7, 8, 9]])"
      ]
     },
     "execution_count": 24,
     "metadata": {},
     "output_type": "execute_result"
    }
   ],
   "source": [
    "# don't code here"
   ]
  },
  {
   "cell_type": "code",
   "execution_count": 42,
   "id": "9501d94d",
   "metadata": {},
   "outputs": [
    {
     "data": {
      "text/plain": [
       "tensor([[0, 1, 2, 3, 4],\n",
       "        [5, 6, 7, 8, 9]])"
      ]
     },
     "execution_count": 42,
     "metadata": {},
     "output_type": "execute_result"
    }
   ],
   "source": [
    "# code here\n",
    "tensor.reshape(2, 5)"
   ]
  },
  {
   "cell_type": "code",
   "execution_count": 26,
   "id": "9e2ffd97",
   "metadata": {},
   "outputs": [
    {
     "data": {
      "text/plain": [
       "tensor([[0, 1],\n",
       "        [2, 3],\n",
       "        [4, 5],\n",
       "        [6, 7],\n",
       "        [8, 9]])"
      ]
     },
     "execution_count": 26,
     "metadata": {},
     "output_type": "execute_result"
    }
   ],
   "source": [
    "# don't code here"
   ]
  },
  {
   "cell_type": "code",
   "execution_count": 43,
   "id": "359ca3ef",
   "metadata": {},
   "outputs": [
    {
     "data": {
      "text/plain": [
       "tensor([[0, 1],\n",
       "        [2, 3],\n",
       "        [4, 5],\n",
       "        [6, 7],\n",
       "        [8, 9]])"
      ]
     },
     "execution_count": 43,
     "metadata": {},
     "output_type": "execute_result"
    }
   ],
   "source": [
    "# code here\n",
    "tensor.reshape(5, 2)"
   ]
  },
  {
   "cell_type": "markdown",
   "id": "0f8d3e9f",
   "metadata": {},
   "source": [
    "### 7) Square the tensor values"
   ]
  },
  {
   "cell_type": "code",
   "execution_count": 28,
   "id": "39fd7e3d",
   "metadata": {},
   "outputs": [
    {
     "data": {
      "text/plain": [
       "tensor([ 0,  1,  4,  9, 16, 25, 36, 49, 64, 81], dtype=torch.int32)"
      ]
     },
     "execution_count": 28,
     "metadata": {},
     "output_type": "execute_result"
    }
   ],
   "source": [
    "# don't code here"
   ]
  },
  {
   "cell_type": "code",
   "execution_count": 44,
   "id": "154d4b61",
   "metadata": {},
   "outputs": [
    {
     "data": {
      "text/plain": [
       "tensor([ 0,  1,  4,  9, 16, 25, 36, 49, 64, 81])"
      ]
     },
     "execution_count": 44,
     "metadata": {},
     "output_type": "execute_result"
    }
   ],
   "source": [
    "# code here\n",
    "tensor ** 2"
   ]
  },
  {
   "cell_type": "markdown",
   "id": "93a74462",
   "metadata": {},
   "source": [
    "### 8) Create a 3-D torch tensor and then move the order of the dimensions. Assign the tensor a variable called 'tensor_3d'. Note: it can have any number of elements on each dimension and any values inside it."
   ]
  },
  {
   "cell_type": "code",
   "execution_count": 38,
   "id": "41772dd5",
   "metadata": {},
   "outputs": [
    {
     "data": {
      "text/plain": [
       "torch.Size([2, 64, 12])"
      ]
     },
     "execution_count": 38,
     "metadata": {},
     "output_type": "execute_result"
    }
   ],
   "source": [
    "# Don't code here, example"
   ]
  },
  {
   "cell_type": "code",
   "execution_count": 44,
   "id": "6c6f7ed3",
   "metadata": {},
   "outputs": [
    {
     "data": {
      "text/plain": [
       "torch.Size([12, 2, 64])"
      ]
     },
     "execution_count": 44,
     "metadata": {},
     "output_type": "execute_result"
    }
   ],
   "source": [
    "# Don't code here, example"
   ]
  },
  {
   "cell_type": "code",
   "execution_count": 58,
   "id": "032877cd",
   "metadata": {},
   "outputs": [
    {
     "data": {
      "text/plain": [
       "torch.Size([2, 64, 12])"
      ]
     },
     "execution_count": 58,
     "metadata": {},
     "output_type": "execute_result"
    }
   ],
   "source": [
    "# code here\n",
    "tensor_3d = torch.ones(size=(2, 64, 12))\n",
    "tensor_3d.shape"
   ]
  },
  {
   "cell_type": "code",
   "execution_count": 59,
   "id": "99614482",
   "metadata": {},
   "outputs": [
    {
     "data": {
      "text/plain": [
       "torch.Size([12, 2, 64])"
      ]
     },
     "execution_count": 59,
     "metadata": {},
     "output_type": "execute_result"
    }
   ],
   "source": [
    "# code here\n",
    "tensor_3d = tensor_3d.reshape(12, 2, 64)\n",
    "tensor_3d.shape"
   ]
  },
  {
   "cell_type": "markdown",
   "id": "8a8cba41",
   "metadata": {},
   "source": [
    "### 9) Create a second 3-d tensor with the same shape as your last tensor_3d. It can contain any values inside it. Assign it to a variable called 'second_tensor_3d'"
   ]
  },
  {
   "cell_type": "code",
   "execution_count": 76,
   "id": "00937211",
   "metadata": {},
   "outputs": [
    {
     "data": {
      "text/plain": [
       "torch.Size([12, 2, 64])"
      ]
     },
     "execution_count": 76,
     "metadata": {},
     "output_type": "execute_result"
    }
   ],
   "source": [
    "# don't code here "
   ]
  },
  {
   "cell_type": "code",
   "execution_count": 60,
   "id": "2129837f",
   "metadata": {},
   "outputs": [
    {
     "data": {
      "text/plain": [
       "torch.Size([12, 2, 64])"
      ]
     },
     "execution_count": 60,
     "metadata": {},
     "output_type": "execute_result"
    }
   ],
   "source": [
    "# code here\n",
    "second_tensor_3d = torch.empty_like(tensor_3d)\n",
    "second_tensor_3d.shape"
   ]
  },
  {
   "cell_type": "markdown",
   "id": "9c963220",
   "metadata": {},
   "source": [
    "### 10) Apply the following operations between 'tensor_3d' and 'second_tensor_3d'"
   ]
  },
  {
   "cell_type": "code",
   "execution_count": 62,
   "id": "ab70481c",
   "metadata": {},
   "outputs": [
    {
     "data": {
      "text/plain": [
       "torch.Size([12, 2, 64])"
      ]
     },
     "execution_count": 62,
     "metadata": {},
     "output_type": "execute_result"
    }
   ],
   "source": [
    "# code here\n",
    "# sum them\n",
    "(tensor_3d + second_tensor_3d).shape"
   ]
  },
  {
   "cell_type": "code",
   "execution_count": 63,
   "id": "57e4f84c",
   "metadata": {},
   "outputs": [
    {
     "data": {
      "text/plain": [
       "torch.Size([12, 2, 64])"
      ]
     },
     "execution_count": 63,
     "metadata": {},
     "output_type": "execute_result"
    }
   ],
   "source": [
    "# code here\n",
    "# substract them\n",
    "(tensor_3d - second_tensor_3d).shape"
   ]
  },
  {
   "cell_type": "code",
   "execution_count": 79,
   "id": "e94458ac",
   "metadata": {},
   "outputs": [
    {
     "data": {
      "text/plain": [
       "torch.Size([24, 2, 64])"
      ]
     },
     "execution_count": 79,
     "metadata": {},
     "output_type": "execute_result"
    }
   ],
   "source": [
    "# don't code here\n",
    "# concatenate on the first dimension and print its shape"
   ]
  },
  {
   "cell_type": "code",
   "execution_count": 65,
   "id": "035f4cf4",
   "metadata": {},
   "outputs": [
    {
     "data": {
      "text/plain": [
       "torch.Size([24, 2, 64])"
      ]
     },
     "execution_count": 65,
     "metadata": {},
     "output_type": "execute_result"
    }
   ],
   "source": [
    "# code here\n",
    "torch.concat((tensor_3d, second_tensor_3d), dim=0).shape"
   ]
  },
  {
   "cell_type": "code",
   "execution_count": 80,
   "id": "540b8c66",
   "metadata": {},
   "outputs": [
    {
     "data": {
      "text/plain": [
       "torch.Size([12, 4, 64])"
      ]
     },
     "execution_count": 80,
     "metadata": {},
     "output_type": "execute_result"
    }
   ],
   "source": [
    "# don't code here\n",
    "# concatenate on the second dimension and print its shape"
   ]
  },
  {
   "cell_type": "code",
   "execution_count": 66,
   "id": "c8c23ce5",
   "metadata": {},
   "outputs": [
    {
     "data": {
      "text/plain": [
       "torch.Size([12, 4, 64])"
      ]
     },
     "execution_count": 66,
     "metadata": {},
     "output_type": "execute_result"
    }
   ],
   "source": [
    "# code here\n",
    "torch.concat((tensor_3d, second_tensor_3d), dim=1).shape"
   ]
  },
  {
   "cell_type": "code",
   "execution_count": 87,
   "id": "e4d36944",
   "metadata": {},
   "outputs": [
    {
     "data": {
      "text/plain": [
       "torch.Size([12, 2, 128])"
      ]
     },
     "execution_count": 87,
     "metadata": {},
     "output_type": "execute_result"
    }
   ],
   "source": [
    "# don't code here\n",
    "# concatenate on the third dimension and print its shape"
   ]
  },
  {
   "cell_type": "code",
   "execution_count": 67,
   "id": "f56289f4",
   "metadata": {},
   "outputs": [
    {
     "data": {
      "text/plain": [
       "torch.Size([12, 2, 128])"
      ]
     },
     "execution_count": 67,
     "metadata": {},
     "output_type": "execute_result"
    }
   ],
   "source": [
    "# code here\n",
    "torch.concat((tensor_3d, second_tensor_3d), dim=-1).shape"
   ]
  },
  {
   "cell_type": "code",
   "execution_count": 95,
   "id": "78ca707e",
   "metadata": {},
   "outputs": [
    {
     "data": {
      "text/plain": [
       "torch.Size([2, 12, 2, 64])"
      ]
     },
     "execution_count": 95,
     "metadata": {},
     "output_type": "execute_result"
    }
   ],
   "source": [
    "# don't code herecode here\n",
    "# stack them on a new first dimension and print its shape"
   ]
  },
  {
   "cell_type": "code",
   "execution_count": 69,
   "id": "ad83a124",
   "metadata": {},
   "outputs": [
    {
     "data": {
      "text/plain": [
       "torch.Size([2, 12, 2, 64])"
      ]
     },
     "execution_count": 69,
     "metadata": {},
     "output_type": "execute_result"
    }
   ],
   "source": [
    "# code here\n",
    "torch.stack((tensor_3d, second_tensor_3d)).shape"
   ]
  },
  {
   "cell_type": "markdown",
   "id": "94bad9ed",
   "metadata": {},
   "source": [
    "### 11) Create a 3-D tensor and apply the following operations. Make sure the number of elements on each dimension are evens. Call it 'tensor'."
   ]
  },
  {
   "cell_type": "code",
   "execution_count": 98,
   "id": "73b818ca",
   "metadata": {},
   "outputs": [
    {
     "data": {
      "text/plain": [
       "torch.Size([2, 4, 6])"
      ]
     },
     "execution_count": 98,
     "metadata": {},
     "output_type": "execute_result"
    }
   ],
   "source": [
    "# don't code here\n",
    "# create tensor"
   ]
  },
  {
   "cell_type": "code",
   "execution_count": 2,
   "id": "9922c934",
   "metadata": {},
   "outputs": [
    {
     "data": {
      "text/plain": [
       "torch.Size([2, 4, 6])"
      ]
     },
     "execution_count": 2,
     "metadata": {},
     "output_type": "execute_result"
    }
   ],
   "source": [
    "# code here\n",
    "import torch\n",
    "tensor = torch.ones((2, 4, 6))\n",
    "tensor.shape"
   ]
  },
  {
   "cell_type": "code",
   "execution_count": 106,
   "id": "a5f0681f",
   "metadata": {},
   "outputs": [
    {
     "data": {
      "text/plain": [
       "torch.Size([2, 1, 4, 6])"
      ]
     },
     "execution_count": 106,
     "metadata": {},
     "output_type": "execute_result"
    }
   ],
   "source": [
    "# don't code here\n",
    "# split the tensor on 2 at the first dimension. stack the result. print shape"
   ]
  },
  {
   "cell_type": "code",
   "execution_count": 4,
   "id": "af732496",
   "metadata": {},
   "outputs": [
    {
     "data": {
      "text/plain": [
       "torch.Size([2, 1, 4, 6])"
      ]
     },
     "execution_count": 4,
     "metadata": {},
     "output_type": "execute_result"
    }
   ],
   "source": [
    "# code here\n",
    "torch.stack((tensor[0, None,  ::, ::], tensor[1, None, ::, ::])).shape"
   ]
  },
  {
   "cell_type": "code",
   "execution_count": 107,
   "id": "a3155039",
   "metadata": {},
   "outputs": [
    {
     "data": {
      "text/plain": [
       "torch.Size([4, 2, 1, 6])"
      ]
     },
     "execution_count": 107,
     "metadata": {},
     "output_type": "execute_result"
    }
   ],
   "source": [
    "# code here\n",
    "# split the tensor on 2 at the third dimension. stack the result. print shape"
   ]
  },
  {
   "cell_type": "code",
   "execution_count": 7,
   "id": "c7b222e1",
   "metadata": {},
   "outputs": [
    {
     "name": "stdout",
     "output_type": "stream",
     "text": [
      "torch.Size([2, 2, 6])\n"
     ]
    },
    {
     "data": {
      "text/plain": [
       "torch.Size([2, 2, 2, 6])"
      ]
     },
     "execution_count": 7,
     "metadata": {},
     "output_type": "execute_result"
    }
   ],
   "source": [
    "# code here\n",
    "print(tensor[::, 2:, ::].shape)\n",
    "torch.stack((tensor[::, 0:2:, ::], tensor[::, 2:, ::])).shape"
   ]
  },
  {
   "cell_type": "code",
   "execution_count": 109,
   "id": "220f33e1",
   "metadata": {},
   "outputs": [
    {
     "data": {
      "text/plain": [
       "torch.Size([6, 2, 4, 1])"
      ]
     },
     "execution_count": 109,
     "metadata": {},
     "output_type": "execute_result"
    }
   ],
   "source": [
    "# code here\n",
    "# add a 4th dimension and print the shape. stack the result. print shape"
   ]
  },
  {
   "cell_type": "code",
   "execution_count": 8,
   "id": "111962cd",
   "metadata": {},
   "outputs": [
    {
     "name": "stdout",
     "output_type": "stream",
     "text": [
      "torch.Size([2, 4, 6, 1])\n"
     ]
    },
    {
     "data": {
      "text/plain": [
       "torch.Size([2, 2, 4, 6, 1])"
      ]
     },
     "execution_count": 8,
     "metadata": {},
     "output_type": "execute_result"
    }
   ],
   "source": [
    "# code here\n",
    "tensor = tensor[::, ::, ::, None]\n",
    "print(tensor.shape)\n",
    "torch.stack((tensor, tensor)).shape"
   ]
  },
  {
   "cell_type": "code",
   "execution_count": 89,
   "id": "fe03e9e1",
   "metadata": {},
   "outputs": [
    {
     "data": {
      "text/plain": [
       "array([[[1., 1., 1., 1., 1., 1.],\n",
       "        [1., 1., 1., 1., 1., 1.],\n",
       "        [1., 1., 1., 1., 1., 1.],\n",
       "        [1., 1., 1., 1., 1., 1.]],\n",
       "\n",
       "       [[1., 1., 1., 1., 1., 1.],\n",
       "        [1., 1., 1., 1., 1., 1.],\n",
       "        [1., 1., 1., 1., 1., 1.],\n",
       "        [1., 1., 1., 1., 1., 1.]]], dtype=float32)"
      ]
     },
     "execution_count": 89,
     "metadata": {},
     "output_type": "execute_result"
    }
   ],
   "source": [
    "# don't code here\n",
    "# additional: \n",
    "# convert any tensor to a numpy array\n",
    "tensor.numpy()"
   ]
  },
  {
   "cell_type": "markdown",
   "id": "7d4479da",
   "metadata": {},
   "source": [
    "### 12) Create with torch directly 2 1-D tensors, both with different shapes but that both can be matrix-multiplied. Call them 'a' and 'b'. They can contain any elements inside."
   ]
  },
  {
   "cell_type": "code",
   "execution_count": 98,
   "id": "e300ade4",
   "metadata": {},
   "outputs": [
    {
     "data": {
      "text/plain": [
       "tensor([[0.5919],\n",
       "        [0.9437],\n",
       "        [0.1362],\n",
       "        [0.9908]])"
      ]
     },
     "execution_count": 98,
     "metadata": {},
     "output_type": "execute_result"
    }
   ],
   "source": [
    "# code 'a' here\n",
    "a = torch.rand((4, 1))\n",
    "a"
   ]
  },
  {
   "cell_type": "code",
   "execution_count": 99,
   "id": "6c4ce1f8",
   "metadata": {},
   "outputs": [
    {
     "data": {
      "text/plain": [
       "tensor([[0.6048],\n",
       "        [0.4253],\n",
       "        [0.5036],\n",
       "        [0.4045],\n",
       "        [0.5039],\n",
       "        [0.8822],\n",
       "        [0.6936],\n",
       "        [0.5356]])"
      ]
     },
     "execution_count": 99,
     "metadata": {},
     "output_type": "execute_result"
    }
   ],
   "source": [
    "# code 'b' here\n",
    "b = torch.rand((8, 1))\n",
    "b"
   ]
  },
  {
   "cell_type": "markdown",
   "id": "4f78a4e5",
   "metadata": {},
   "source": [
    "### 13) Matrix-multiply a and b\n"
   ]
  },
  {
   "cell_type": "code",
   "execution_count": 100,
   "id": "0d2d564c",
   "metadata": {},
   "outputs": [
    {
     "data": {
      "text/plain": [
       "tensor([[0.3580, 0.2517, 0.2981, 0.2394, 0.2983, 0.5222, 0.4106, 0.3170],\n",
       "        [0.5707, 0.4014, 0.4753, 0.3817, 0.4756, 0.8326, 0.6546, 0.5054],\n",
       "        [0.0824, 0.0579, 0.0686, 0.0551, 0.0687, 0.1202, 0.0945, 0.0730],\n",
       "        [0.5992, 0.4214, 0.4990, 0.4008, 0.4993, 0.8741, 0.6873, 0.5307]])"
      ]
     },
     "execution_count": 100,
     "metadata": {},
     "output_type": "execute_result"
    }
   ],
   "source": [
    "# code here\n",
    "torch.matmul(a, b.T)"
   ]
  }
 ],
 "metadata": {
  "kernelspec": {
   "display_name": "Python 3.10.7 64-bit",
   "language": "python",
   "name": "python3"
  },
  "language_info": {
   "codemirror_mode": {
    "name": "ipython",
    "version": 3
   },
   "file_extension": ".py",
   "mimetype": "text/x-python",
   "name": "python",
   "nbconvert_exporter": "python",
   "pygments_lexer": "ipython3",
   "version": "3.10.7"
  },
  "vscode": {
   "interpreter": {
    "hash": "767d51c1340bd893661ea55ea3124f6de3c7a262a8b4abca0554b478b1e2ff90"
   }
  }
 },
 "nbformat": 4,
 "nbformat_minor": 5
}
