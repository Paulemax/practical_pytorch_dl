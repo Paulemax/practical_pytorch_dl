{
 "cells": [
  {
   "cell_type": "code",
   "execution_count": 85,
   "id": "fa52867a",
   "metadata": {},
   "outputs": [
    {
     "name": "stdout",
     "output_type": "stream",
     "text": [
      "[[4, 5], [6, 7]]\n",
      "[[2, 3]]\n",
      "True\n",
      "[[0, 2], [1, 3], [2, 4], [3, 5], [4, 6]]\n",
      "[[2, 4]]\n",
      "False\n",
      "[2, 1]\n",
      "True\n"
     ]
    }
   ],
   "source": [
    "from typing import Tuple\n",
    "\n",
    "\n",
    "class tensor:\n",
    "    def __init__(self,size,stride,offset,storage):\n",
    "        self.size = size\n",
    "        self.stride = stride\n",
    "        self.offset = offset\n",
    "        self.storage = storage\n",
    "    \n",
    "    def __repr__(self):\n",
    "        return \"size:\"+str(self.size)+\"\\nstride:\"+str(self.stride)+\"\\noffset:\"+str(self.offset)+\"\\nstorage:\"+str(self.storage)\n",
    "    \n",
    "    def __getitem__(self, *idxs):\n",
    "        idx = idxs[0]\n",
    "        # multiple arguments\n",
    "        if isinstance(idx, tuple):\n",
    "            a, b = idx\n",
    "            if isinstance(a, slice):\n",
    "                start, stop, step = self._parse_slice(a, 0)\n",
    "                idx_0 = [self. offset + x * self.stride[0] for x in range(start, stop, step)]\n",
    "            else:\n",
    "                idx_0 = [a]\n",
    "            if isinstance(b, slice):\n",
    "                start, stop, step = self._parse_slice(b, 1)\n",
    "                idx_1 = [self.offset + x * self.stride[1] for x in range(start, stop, step)]\n",
    "            else:\n",
    "                idx_1 = [b]\n",
    "        # single argument\n",
    "        else:\n",
    "            idx_0 = [idx]\n",
    "            idx_1 = [self.offset + x * self.stride[1] for x in range(0, self.size[1])] # this is potentially wrong TODO\n",
    "            \n",
    "        r = []\n",
    "        for x0 in idx_0:\n",
    "            ri = []\n",
    "            for x1 in idx_1:\n",
    "                ind = self.offset + x0 + x1\n",
    "                if ind >= len(self.storage):\n",
    "                    raise IndexError(\"Specified Indices can't be selected, either offset is \" + \n",
    "                        \"non zero or indices are to big, figure it out yourself\" +\n",
    "                        f\"indices dim0: {idx_0}, indices dim1: {idx_1}, offset: {self.offset}\")\n",
    "                ri.append(self.storage[ind])\n",
    "            r.append(ri)\n",
    "        return r\n",
    "\n",
    "    def _parse_slice(self, slice: slice, dim:int) -> tuple[int, int, int]:\n",
    "        start = slice.start if slice.start is not None else 0 \n",
    "        end = slice.stop if slice.stop is not None else self.size[dim] \n",
    "        step = slice.step if slice.step is not None else 1 \n",
    "        return start, end, step\n",
    "        \n",
    "    def transpose(self, dim0, dim1) -> None:\n",
    "        self.stride = [self.stride[dim0], self.stride[dim1]]\n",
    "        \n",
    "    def is_contiguous(self) -> bool:\n",
    "        return self.size[1] == self.stride[0]\n",
    "        \n",
    "    def unsqueeze(self,dim=0) -> None:\n",
    "        if len(self.stride) > 1 or dim > 1 or dim < 0:\n",
    "            raise Exception(\"This tensor implementation only supports two 2d tensors, so only unsqueezing of 1d tensors is possible\")\n",
    "        if dim==0:\n",
    "            self.size = [1, self.size[0]]\n",
    "            self.stride = [1, 1] # stride is only relevant if we unsqueeze tensors that are > 1d which is not supported\n",
    "        elif dim==1:\n",
    "            self.size = [self.size[0], 1]\n",
    "            self.stride = [1, 1]\n",
    "\n",
    "\n",
    "stride=[2,1]\n",
    "size=[5,2]\n",
    "storage=range(10)\n",
    "t=tensor(size,stride,0,storage)\n",
    "\n",
    "print(t[2:4:, ::])\n",
    "print(t[2])\n",
    "print(t.is_contiguous())\n",
    "\n",
    "t.transpose(1, 0)\n",
    "print(t[::, ::])\n",
    "print(t[2])\n",
    "print(t.is_contiguous())\n",
    "\n",
    "t.transpose(1, 0)\n",
    "print(t.stride)\n",
    "print(t.is_contiguous())\n",
    "\n"
   ]
  },
  {
   "cell_type": "code",
   "execution_count": 86,
   "id": "85bfa942",
   "metadata": {},
   "outputs": [
    {
     "name": "stdout",
     "output_type": "stream",
     "text": [
      "tensor([[0, 1],\n",
      "        [2, 3],\n",
      "        [4, 5],\n",
      "        [6, 7],\n",
      "        [8, 9]]) (2, 1) True torch.Size([5, 2])\n",
      "False\n",
      "True\n",
      "tensor([0, 1, 2, 3, 4, 5, 6, 7, 8, 9]) (1,)\n"
     ]
    }
   ],
   "source": [
    "# just some code to help me understand how contiguous works\n",
    "import torch\n",
    "a = torch.arange(0, 10).view(5, 2)\n",
    "print(a, a.stride(), a.is_contiguous(), a.shape)\n",
    "a = a.T\n",
    "print(a.is_contiguous())\n",
    "a = a.T\n",
    "print(a.is_contiguous())\n",
    "b = torch.arange(0, 10)\n",
    "print(b, b.stride())"
   ]
  }
 ],
 "metadata": {
  "kernelspec": {
   "display_name": "Python 3.10.7 ('venv': venv)",
   "language": "python",
   "name": "python3"
  },
  "language_info": {
   "codemirror_mode": {
    "name": "ipython",
    "version": 3
   },
   "file_extension": ".py",
   "mimetype": "text/x-python",
   "name": "python",
   "nbconvert_exporter": "python",
   "pygments_lexer": "ipython3",
   "version": "3.10.7"
  },
  "vscode": {
   "interpreter": {
    "hash": "1cd52e3fcb9baaa40b3d605a6296e70b2d59f0509251b8daccec7a45dc12b452"
   }
  }
 },
 "nbformat": 4,
 "nbformat_minor": 5
}
