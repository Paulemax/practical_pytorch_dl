{
 "cells": [
  {
   "cell_type": "code",
   "execution_count": 1,
   "id": "2ea2b382",
   "metadata": {
    "_cell_guid": "b1076dfc-b9ad-4769-8c92-a6c4dae69d19",
    "_uuid": "8f2839f25d086af736a60e9eeb907d3b93b6e0e5",
    "execution": {
     "iopub.execute_input": "2022-12-03T15:05:59.561985Z",
     "iopub.status.busy": "2022-12-03T15:05:59.561475Z",
     "iopub.status.idle": "2022-12-03T15:06:02.377283Z",
     "shell.execute_reply": "2022-12-03T15:06:02.376313Z"
    },
    "papermill": {
     "duration": 2.826599,
     "end_time": "2022-12-03T15:06:02.379812",
     "exception": false,
     "start_time": "2022-12-03T15:05:59.553213",
     "status": "completed"
    },
    "tags": []
   },
   "outputs": [],
   "source": [
    "import numpy as np\n",
    "import torch\n",
    "import pandas as pd\n",
    "import re\n",
    "import nltk\n",
    "from nltk.corpus import stopwords\n",
    "from collections import Counter\n",
    "from sklearn.model_selection import train_test_split"
   ]
  },
  {
   "cell_type": "code",
   "execution_count": 2,
   "id": "a061d905",
   "metadata": {
    "execution": {
     "iopub.execute_input": "2022-12-03T15:06:02.388110Z",
     "iopub.status.busy": "2022-12-03T15:06:02.387670Z",
     "iopub.status.idle": "2022-12-03T15:06:02.775019Z",
     "shell.execute_reply": "2022-12-03T15:06:02.772446Z"
    },
    "papermill": {
     "duration": 0.395864,
     "end_time": "2022-12-03T15:06:02.779273",
     "exception": false,
     "start_time": "2022-12-03T15:06:02.383409",
     "status": "completed"
    },
    "tags": []
   },
   "outputs": [
    {
     "name": "stderr",
     "output_type": "stream",
     "text": [
      "[nltk_data] Downloading package stopwords to data...\n",
      "[nltk_data]   Package stopwords is already up-to-date!\n"
     ]
    },
    {
     "data": {
      "text/plain": [
       "True"
      ]
     },
     "execution_count": 2,
     "metadata": {},
     "output_type": "execute_result"
    }
   ],
   "source": [
    "nltk.download('stopwords', download_dir=\"data\")"
   ]
  },
  {
   "cell_type": "code",
   "execution_count": 4,
   "id": "bdfe9ddd",
   "metadata": {
    "execution": {
     "iopub.execute_input": "2022-12-03T15:06:02.797195Z",
     "iopub.status.busy": "2022-12-03T15:06:02.796875Z",
     "iopub.status.idle": "2022-12-03T15:06:04.477041Z",
     "shell.execute_reply": "2022-12-03T15:06:04.475556Z"
    },
    "papermill": {
     "duration": 1.69037,
     "end_time": "2022-12-03T15:06:04.479091",
     "exception": false,
     "start_time": "2022-12-03T15:06:02.788721",
     "status": "completed"
    },
    "tags": []
   },
   "outputs": [
    {
     "data": {
      "text/html": [
       "<div>\n",
       "<style scoped>\n",
       "    .dataframe tbody tr th:only-of-type {\n",
       "        vertical-align: middle;\n",
       "    }\n",
       "\n",
       "    .dataframe tbody tr th {\n",
       "        vertical-align: top;\n",
       "    }\n",
       "\n",
       "    .dataframe thead th {\n",
       "        text-align: right;\n",
       "    }\n",
       "</style>\n",
       "<table border=\"1\" class=\"dataframe\">\n",
       "  <thead>\n",
       "    <tr style=\"text-align: right;\">\n",
       "      <th></th>\n",
       "      <th>review</th>\n",
       "      <th>sentiment</th>\n",
       "    </tr>\n",
       "  </thead>\n",
       "  <tbody>\n",
       "    <tr>\n",
       "      <th>0</th>\n",
       "      <td>One of the other reviewers has mentioned that ...</td>\n",
       "      <td>positive</td>\n",
       "    </tr>\n",
       "    <tr>\n",
       "      <th>1</th>\n",
       "      <td>A wonderful little production. &lt;br /&gt;&lt;br /&gt;The...</td>\n",
       "      <td>positive</td>\n",
       "    </tr>\n",
       "    <tr>\n",
       "      <th>2</th>\n",
       "      <td>I thought this was a wonderful way to spend ti...</td>\n",
       "      <td>positive</td>\n",
       "    </tr>\n",
       "    <tr>\n",
       "      <th>3</th>\n",
       "      <td>Basically there's a family where a little boy ...</td>\n",
       "      <td>negative</td>\n",
       "    </tr>\n",
       "    <tr>\n",
       "      <th>4</th>\n",
       "      <td>Petter Mattei's \"Love in the Time of Money\" is...</td>\n",
       "      <td>positive</td>\n",
       "    </tr>\n",
       "  </tbody>\n",
       "</table>\n",
       "</div>"
      ],
      "text/plain": [
       "                                              review sentiment\n",
       "0  One of the other reviewers has mentioned that ...  positive\n",
       "1  A wonderful little production. <br /><br />The...  positive\n",
       "2  I thought this was a wonderful way to spend ti...  positive\n",
       "3  Basically there's a family where a little boy ...  negative\n",
       "4  Petter Mattei's \"Love in the Time of Money\" is...  positive"
      ]
     },
     "metadata": {},
     "output_type": "display_data"
    },
    {
     "name": "stdout",
     "output_type": "stream",
     "text": [
      "number of train samples is (37500,)\n",
      "number of test samples is (12500,)\n"
     ]
    }
   ],
   "source": [
    "# load and split dataset\n",
    "df = pd.read_csv('IMDB Dataset.csv')\n",
    "\n",
    "x_train_raw,x_test_raw,y_train_raw,y_test_raw = train_test_split(df['review'].values,df['sentiment'].values, test_size=0.25, random_state=1, shuffle=True, stratify=df['sentiment'].values)\n",
    "\n",
    "display(df.head())\n",
    "print(f'number of train samples is {x_train_raw.shape}')\n",
    "print(f'number of test samples is {x_test_raw.shape}')"
   ]
  },
  {
   "cell_type": "code",
   "execution_count": 5,
   "id": "d6624167",
   "metadata": {
    "execution": {
     "iopub.execute_input": "2022-12-03T15:06:04.487780Z",
     "iopub.status.busy": "2022-12-03T15:06:04.487468Z",
     "iopub.status.idle": "2022-12-03T15:06:04.499686Z",
     "shell.execute_reply": "2022-12-03T15:06:04.498801Z"
    },
    "papermill": {
     "duration": 0.018857,
     "end_time": "2022-12-03T15:06:04.501713",
     "exception": false,
     "start_time": "2022-12-03T15:06:04.482856",
     "status": "completed"
    },
    "tags": []
   },
   "outputs": [],
   "source": [
    "def prepro_string(w_str):\n",
    "    w_str = re.sub(r\"[^\\w\\s]\", '', w_str)\n",
    "    w_str = re.sub(r\"\\s+\", '', w_str)\n",
    "    w_str = re.sub(r\"\\d\", '', w_str)\n",
    "    return w_str\n",
    "\n",
    "def tocken_w(x_tra_raw,y_tra_raw,x_val_raw,y_val_raw, seq_len):\n",
    "    word_list = []\n",
    "    stop_words = set(stopwords.words('english'))\n",
    "    \n",
    "    for sent in x_tra_raw:\n",
    "        for w in sent.lower().split():\n",
    "            w = prepro_string(w)\n",
    "            if w not in stop_words and w != '':\n",
    "                word_list.append(w)\n",
    "\n",
    "    corpus_ = sorted(Counter(word_list),key=Counter(word_list).get,reverse=True)[:500]\n",
    "    vocab_dict = {w:i for i,w in enumerate(corpus_)}\n",
    "\n",
    "    l_train,l_test = [],[]\n",
    "    for sent in x_train_raw:\n",
    "        l_train.append([vocab_dict[prepro_string(word)] for word in sent.lower().split()\n",
    "                                 if prepro_string(word) in vocab_dict.keys()])\n",
    "    for sent in x_val_raw:\n",
    "        l_test.append([vocab_dict[prepro_string(word)] for word in sent.lower().split()\n",
    "                                if prepro_string(word) in vocab_dict.keys()])\n",
    "\n",
    "    # padding to same length with zeros\n",
    "    x_train = np.zeros((len(l_train), seq_len),dtype=int)\n",
    "    for i, review in enumerate(l_train):\n",
    "        if len(review) != 0:\n",
    "            x_train[i, -len(review):] = np.array(review)[:seq_len]\n",
    "\n",
    "    x_test = np.zeros((len(l_test), seq_len),dtype=int)\n",
    "    for i, review in enumerate(l_test):\n",
    "        if len(review) != 0:\n",
    "            x_test[i, -len(review):] = np.array(review)[:seq_len]\n",
    "\n",
    "    y_train = np.array([1 if label =='positive' else 0 for label in y_train_raw])\n",
    "    y_test = np.array([1 if label =='positive' else 0 for label in y_val_raw])\n",
    "    return x_train, y_train,x_test, y_test, vocab_dict\n"
   ]
  },
  {
   "cell_type": "code",
   "execution_count": 6,
   "id": "981eb1ef",
   "metadata": {
    "execution": {
     "iopub.execute_input": "2022-12-03T15:06:04.510222Z",
     "iopub.status.busy": "2022-12-03T15:06:04.509959Z",
     "iopub.status.idle": "2022-12-03T15:07:27.954413Z",
     "shell.execute_reply": "2022-12-03T15:07:27.953356Z"
    },
    "papermill": {
     "duration": 83.451555,
     "end_time": "2022-12-03T15:07:27.956918",
     "exception": false,
     "start_time": "2022-12-03T15:06:04.505363",
     "status": "completed"
    },
    "tags": []
   },
   "outputs": [],
   "source": [
    "x_train,y_train,x_test,y_test,vocab = tocken_w(x_train_raw,y_train_raw,x_test_raw,y_test_raw, seq_len = 500)"
   ]
  },
  {
   "cell_type": "code",
   "execution_count": 7,
   "id": "8791dfd8",
   "metadata": {
    "execution": {
     "iopub.execute_input": "2022-12-03T15:07:27.965989Z",
     "iopub.status.busy": "2022-12-03T15:07:27.965684Z",
     "iopub.status.idle": "2022-12-03T15:07:27.970536Z",
     "shell.execute_reply": "2022-12-03T15:07:27.969503Z"
    },
    "papermill": {
     "duration": 0.011948,
     "end_time": "2022-12-03T15:07:27.972852",
     "exception": false,
     "start_time": "2022-12-03T15:07:27.960904",
     "status": "completed"
    },
    "tags": []
   },
   "outputs": [],
   "source": [
    "from torch.utils.data import TensorDataset, DataLoader\n",
    "import torch.nn as nn\n",
    "import pandas as pd"
   ]
  },
  {
   "cell_type": "code",
   "execution_count": 8,
   "id": "678cf3a3",
   "metadata": {
    "execution": {
     "iopub.execute_input": "2022-12-03T15:07:27.981736Z",
     "iopub.status.busy": "2022-12-03T15:07:27.981449Z",
     "iopub.status.idle": "2022-12-03T15:07:27.987072Z",
     "shell.execute_reply": "2022-12-03T15:07:27.986086Z"
    },
    "papermill": {
     "duration": 0.012154,
     "end_time": "2022-12-03T15:07:27.988977",
     "exception": false,
     "start_time": "2022-12-03T15:07:27.976823",
     "status": "completed"
    },
    "tags": []
   },
   "outputs": [],
   "source": [
    "# DataLoader\n",
    "batch_size = 32\n",
    "\n",
    "ds_train = TensorDataset(torch.from_numpy(x_train), torch.from_numpy(y_train))\n",
    "ds_test = TensorDataset(torch.from_numpy(x_test), torch.from_numpy(y_test))\n",
    "\n",
    "\n",
    "dl_train = DataLoader(ds_train, batch_size=batch_size, drop_last=True, shuffle=True)\n",
    "dl_test = DataLoader(ds_test, batch_size=batch_size, drop_last=True, shuffle=False)"
   ]
  },
  {
   "cell_type": "code",
   "execution_count": 17,
   "id": "fa9950e1",
   "metadata": {},
   "outputs": [],
   "source": [
    "# define the transformer encoder\n",
    "import torch\n",
    "\n",
    "class TransformerEncoderModule(torch.nn.Module):\n",
    "    def __init__(self, d_model: int, n_head: int, num_layers: int) -> None:\n",
    "        super().__init__()\n",
    "        self.transformer_layer = nn.TransformerEncoderLayer(d_model=d_model, nhead=n_head, batch_first=True)\n",
    "        self.transformer = nn.TransformerEncoder(self.transformer_layer, num_layers=num_layers)\n",
    "        \n",
    "\n",
    "    def forward(self, x):\n",
    "        return self.transformer(x)"
   ]
  },
  {
   "cell_type": "code",
   "execution_count": 20,
   "id": "a12f6ce0",
   "metadata": {
    "execution": {
     "iopub.execute_input": "2022-12-03T15:07:27.997850Z",
     "iopub.status.busy": "2022-12-03T15:07:27.997555Z",
     "iopub.status.idle": "2022-12-03T15:07:30.446279Z",
     "shell.execute_reply": "2022-12-03T15:07:30.445133Z"
    },
    "papermill": {
     "duration": 2.456179,
     "end_time": "2022-12-03T15:07:30.448797",
     "exception": false,
     "start_time": "2022-12-03T15:07:27.992618",
     "status": "completed"
    },
    "tags": []
   },
   "outputs": [],
   "source": [
    "import pytorch_lightning as pl\n",
    "from typing import Any\n",
    "from torchmetrics.functional.classification import binary_accuracy\n",
    "from torchmetrics.classification import BinaryConfusionMatrix, BinaryAccuracy, BinaryAUROC\n",
    "import torch\n",
    "\n",
    "class EncoderWrapper(pl.LightningModule):\n",
    "\n",
    "    def __init__(self, \n",
    "        loss: callable, \n",
    "        lr: float,\n",
    "        model: torch.nn.Module,\n",
    "    ) -> None:\n",
    "        super().__init__()\n",
    "\n",
    "        self.loss = loss\n",
    "        self.lr = lr\n",
    "\n",
    "        self.model = model\n",
    "        \n",
    "        # eval stuff\n",
    "        self.val_auroc = BinaryAUROC()\n",
    "        self.val_acc = BinaryAccuracy()\n",
    "        self.val_conf_mat = BinaryConfusionMatrix(threshold=0.5)\n",
    "\n",
    "        self.test_auroc = BinaryAUROC()\n",
    "        self.test_acc = BinaryAccuracy()\n",
    "        self.test_conf_mat = BinaryConfusionMatrix(threshold=0.5)       \n",
    "\n",
    "    def forward(self, x: torch.Tensor, h, c) -> torch.Tensor:\n",
    "        out = self.model(emb)\n",
    "        return out\n",
    "\n",
    "    def _step(self, batch, h, c) -> torch.Tensor:\n",
    "        x, y = batch\n",
    "        pred  = self.forward(x)\n",
    "        loss = self.loss(pred, y.float())\n",
    "        return pred, loss\n",
    "\n",
    "    def training_step(self, batch, batch_idx) -> torch.Tensor:\n",
    "        pred, loss = self._step(batch)\n",
    "        self.log(\"train/loss\", loss)\n",
    "        acc = binary_accuracy(pred, batch[-1])\n",
    "        self.log(\"train/acc\", acc)\n",
    "        return loss\n",
    "    \n",
    "    def _eval_step(self, batch, auroc, conf, acc):\n",
    "        pred, loss = self._step(batch)\n",
    "        auroc.update(pred, batch[-1])\n",
    "        acc.update(pred, batch[-1])\n",
    "        conf.update(pred, batch[-1])\n",
    "\n",
    "        return loss\n",
    "\n",
    "    def _eval_epoch_end(self, eval_type, auroc, acc, conf_mat):\n",
    "        auroc_val = auroc.compute()\n",
    "        acc_val = acc.compute()\n",
    "        conf_val = conf_mat.compute()\n",
    "        print(f\"{eval_type} AUROC: {auroc_val.data}\")\n",
    "        print(f\"{eval_type} Accuracy: {acc_val.data}\")\n",
    "        print(f\"{eval_type} Conf Mat: {conf_val.data}\")\n",
    "        self.log(f\"{eval_type}/auroc\", auroc_val)\n",
    "        self.log(f\"{eval_type}/acc\", acc_val)\n",
    "        self.conf_mat = conf_val.detach()\n",
    "        #self.log(f\"{eval_type}/conf\", conf_val)\n",
    "\n",
    "        \n",
    "    def test_step(self, batch: torch.Tensor, batch_idx: int) -> torch.Tensor:\n",
    "        loss = self._eval_step(batch, self.test_auroc, self.test_acc, self.test_conf_mat)\n",
    "\n",
    "    def test_epoch_end(self, outputs) -> None:\n",
    "        self._eval_epoch_end(\"Test\", self.test_auroc, self.test_acc, self.test_conf_mat)\n",
    "\n",
    "    def validation_step(self, batch: torch.Tensor, batch_idx: int) -> torch.Tensor:\n",
    "        loss = self._eval_step(batch, self.val_auroc, self.val_acc)\n",
    "        self.log(\"test\", loss)\n",
    "\n",
    "    def validation_epoch_end(self, outputs) -> None:\n",
    "        self._eval_epoch_end(\"Val\", self.val_auroc, self.val_acc, self.val_conf_mat)\n",
    "                \n",
    "    def configure_optimizers(self) -> Any:\n",
    "        optim = torch.optim.Adam(self.parameters(), lr=self.lr)\n",
    "        return optim"
   ]
  },
  {
   "cell_type": "code",
   "execution_count": 23,
   "id": "65529e73",
   "metadata": {
    "execution": {
     "iopub.execute_input": "2022-12-03T15:07:30.459452Z",
     "iopub.status.busy": "2022-12-03T15:07:30.457926Z",
     "iopub.status.idle": "2022-12-03T15:07:30.522277Z",
     "shell.execute_reply": "2022-12-03T15:07:30.521280Z"
    },
    "papermill": {
     "duration": 0.072228,
     "end_time": "2022-12-03T15:07:30.524975",
     "exception": false,
     "start_time": "2022-12-03T15:07:30.452747",
     "status": "completed"
    },
    "tags": []
   },
   "outputs": [
    {
     "name": "stdout",
     "output_type": "stream",
     "text": [
      "torch.Size([32, 500])\n"
     ]
    }
   ],
   "source": [
    "log_intervall = 10\n",
    "epochs = 10\n",
    "lr=1e-3\n",
    "criterion = nn.BCELoss()\n",
    "\n",
    "vocab_size = len(vocab)\n",
    "embedding_dim = 400\n",
    "hidden_size = 128\n",
    "num_layers = 5\n",
    "seq_len = 500\n",
    "n_head = 8\n",
    "num_layers = 6\n",
    "\n",
    "emb = nn.Embedding(vocab_size, embedding_dim)\n",
    "\n",
    "transformer = TransformerEncoderModule(d_model=embedding_dim, n_head=n_head, num_layers=num_layers)\n",
    "\n",
    "classification_head = nn.Sequential(\n",
    "    nn.Flatten(),\n",
    "    nn.Linear(hidden_size * seq_len, 1),\n",
    "    nn.Sigmoid(),\n",
    ")\n",
    "\n",
    "x0, y0 = next(iter(dl_train))\n",
    "arch = torch.nn.Sequential(emb, transformer, classification_head)\n",
    "\n",
    "print(x0.shape)\n",
    "arch(x0)\n",
    "\n",
    "# lstm_model = EncoderWrapper(\n",
    "#     loss=criterion, \n",
    "#     lr=lr,\n",
    "#     model=arch,\n",
    "# )"
   ]
  },
  {
   "cell_type": "code",
   "execution_count": 10,
   "id": "d6a5a431",
   "metadata": {
    "execution": {
     "iopub.execute_input": "2022-12-03T15:07:30.535467Z",
     "iopub.status.busy": "2022-12-03T15:07:30.534404Z",
     "iopub.status.idle": "2022-12-03T15:10:51.359104Z",
     "shell.execute_reply": "2022-12-03T15:10:51.358114Z"
    },
    "papermill": {
     "duration": 200.832214,
     "end_time": "2022-12-03T15:10:51.361502",
     "exception": false,
     "start_time": "2022-12-03T15:07:30.529288",
     "status": "completed"
    },
    "tags": []
   },
   "outputs": [
    {
     "name": "stderr",
     "output_type": "stream",
     "text": [
      "/opt/conda/lib/python3.7/site-packages/pytorch_lightning/trainer/configuration_validator.py:109: PossibleUserWarning: You defined a `validation_step` but have no `val_dataloader`. Skipping val loop.\n",
      "  category=PossibleUserWarning,\n"
     ]
    },
    {
     "data": {
      "application/vnd.jupyter.widget-view+json": {
       "model_id": "240bed7f8f884001a64ca776927a0e84",
       "version_major": 2,
       "version_minor": 0
      },
      "text/plain": [
       "Training: 0it [00:00, ?it/s]"
      ]
     },
     "metadata": {},
     "output_type": "display_data"
    }
   ],
   "source": [
    "trainer = pl.Trainer(max_epochs=epochs, accelerator=\"gpu\", devices=1, log_every_n_steps=log_intervall)\n",
    "trainer.fit(lstm_model, dl_train)"
   ]
  },
  {
   "cell_type": "code",
   "execution_count": 11,
   "id": "93b060a0",
   "metadata": {
    "execution": {
     "iopub.execute_input": "2022-12-03T15:10:51.371252Z",
     "iopub.status.busy": "2022-12-03T15:10:51.370954Z",
     "iopub.status.idle": "2022-12-03T15:10:54.326297Z",
     "shell.execute_reply": "2022-12-03T15:10:54.325141Z"
    },
    "papermill": {
     "duration": 2.962758,
     "end_time": "2022-12-03T15:10:54.328627",
     "exception": false,
     "start_time": "2022-12-03T15:10:51.365869",
     "status": "completed"
    },
    "tags": []
   },
   "outputs": [
    {
     "data": {
      "application/vnd.jupyter.widget-view+json": {
       "model_id": "aa731c9fd54e4b11891e07da6dc642b3",
       "version_major": 2,
       "version_minor": 0
      },
      "text/plain": [
       "Testing: 0it [00:00, ?it/s]"
      ]
     },
     "metadata": {},
     "output_type": "display_data"
    },
    {
     "name": "stdout",
     "output_type": "stream",
     "text": [
      "Test AUROC: 0.9037129282951355\n",
      "Test Accuracy: 0.8208821415901184\n",
      "Test Conf Mat: tensor([[5167,  971],\n",
      "        [1230, 4920]], device='cuda:0')\n",
      "tensor([[5167,  971],\n",
      "        [1230, 4920]], device='cuda:0')\n"
     ]
    },
    {
     "data": {
      "text/html": [
       "<pre style=\"white-space:pre;overflow-x:auto;line-height:normal;font-family:Menlo,'DejaVu Sans Mono',consolas,'Courier New',monospace\">┏━━━━━━━━━━━━━━━━━━━━━━━━━━━┳━━━━━━━━━━━━━━━━━━━━━━━━━━━┓\n",
       "┃<span style=\"font-weight: bold\">        Test metric        </span>┃<span style=\"font-weight: bold\">       DataLoader 0        </span>┃\n",
       "┡━━━━━━━━━━━━━━━━━━━━━━━━━━━╇━━━━━━━━━━━━━━━━━━━━━━━━━━━┩\n",
       "│<span style=\"color: #008080; text-decoration-color: #008080\">         Test/acc          </span>│<span style=\"color: #800080; text-decoration-color: #800080\">    0.8208821415901184     </span>│\n",
       "│<span style=\"color: #008080; text-decoration-color: #008080\">        Test/auroc         </span>│<span style=\"color: #800080; text-decoration-color: #800080\">    0.9037129282951355     </span>│\n",
       "└───────────────────────────┴───────────────────────────┘\n",
       "</pre>\n"
      ],
      "text/plain": [
       "┏━━━━━━━━━━━━━━━━━━━━━━━━━━━┳━━━━━━━━━━━━━━━━━━━━━━━━━━━┓\n",
       "┃\u001b[1m \u001b[0m\u001b[1m       Test metric       \u001b[0m\u001b[1m \u001b[0m┃\u001b[1m \u001b[0m\u001b[1m      DataLoader 0       \u001b[0m\u001b[1m \u001b[0m┃\n",
       "┡━━━━━━━━━━━━━━━━━━━━━━━━━━━╇━━━━━━━━━━━━━━━━━━━━━━━━━━━┩\n",
       "│\u001b[36m \u001b[0m\u001b[36m        Test/acc         \u001b[0m\u001b[36m \u001b[0m│\u001b[35m \u001b[0m\u001b[35m   0.8208821415901184    \u001b[0m\u001b[35m \u001b[0m│\n",
       "│\u001b[36m \u001b[0m\u001b[36m       Test/auroc        \u001b[0m\u001b[36m \u001b[0m│\u001b[35m \u001b[0m\u001b[35m   0.9037129282951355    \u001b[0m\u001b[35m \u001b[0m│\n",
       "└───────────────────────────┴───────────────────────────┘\n"
      ]
     },
     "metadata": {},
     "output_type": "display_data"
    },
    {
     "data": {
      "text/plain": [
       "[{'Test/auroc': 0.9037129282951355, 'Test/acc': 0.8208821415901184}]"
      ]
     },
     "execution_count": 11,
     "metadata": {},
     "output_type": "execute_result"
    }
   ],
   "source": [
    "trainer.test(lstm_model, dl_test)"
   ]
  },
  {
   "cell_type": "code",
   "execution_count": 12,
   "id": "e4bd7b5b",
   "metadata": {
    "execution": {
     "iopub.execute_input": "2022-12-03T15:10:54.338855Z",
     "iopub.status.busy": "2022-12-03T15:10:54.338513Z",
     "iopub.status.idle": "2022-12-03T15:10:54.343227Z",
     "shell.execute_reply": "2022-12-03T15:10:54.342295Z"
    },
    "papermill": {
     "duration": 0.012284,
     "end_time": "2022-12-03T15:10:54.345356",
     "exception": false,
     "start_time": "2022-12-03T15:10:54.333072",
     "status": "completed"
    },
    "tags": []
   },
   "outputs": [],
   "source": [
    "conf_mat = lstm_model.conf_mat.cpu().numpy()"
   ]
  },
  {
   "cell_type": "code",
   "execution_count": 13,
   "id": "e73716a8",
   "metadata": {
    "execution": {
     "iopub.execute_input": "2022-12-03T15:10:54.355092Z",
     "iopub.status.busy": "2022-12-03T15:10:54.354830Z",
     "iopub.status.idle": "2022-12-03T15:10:54.691368Z",
     "shell.execute_reply": "2022-12-03T15:10:54.690429Z"
    },
    "papermill": {
     "duration": 0.343986,
     "end_time": "2022-12-03T15:10:54.693566",
     "exception": false,
     "start_time": "2022-12-03T15:10:54.349580",
     "status": "completed"
    },
    "tags": []
   },
   "outputs": [
    {
     "data": {
      "text/plain": [
       "<AxesSubplot:>"
      ]
     },
     "execution_count": 13,
     "metadata": {},
     "output_type": "execute_result"
    },
    {
     "data": {
      "image/png": "[encoded data removed]",
      "text/plain": [
       "<Figure size 432x288 with 2 Axes>"
      ]
     },
     "metadata": {
      "needs_background": "light"
     },
     "output_type": "display_data"
    }
   ],
   "source": [
    "import seaborn as sns\n",
    "\n",
    "sns.heatmap(conf_mat,annot=True, fmt='g', xticklabels=[\"Positive\", \"Negative\"], yticklabels=[\"Positive\", \"Negative\"])"
   ]
  },
  {
   "cell_type": "code",
   "execution_count": null,
   "id": "c6be254f",
   "metadata": {},
   "outputs": [],
   "source": [
    "# Inspect the Logs if you are interested\n",
    "%load_ext tensorboard\n",
    "%tensorboard --logdir lightning_logs"
   ]
  },
  {
   "cell_type": "markdown",
   "id": "e29671fe",
   "metadata": {},
   "source": [
    "# No Math this Week :( sadly i do not have time for it "
   ]
  }
 ],
 "metadata": {
  "kernelspec": {
   "display_name": "Python 3.10.8 64-bit",
   "language": "python",
   "name": "python3"
  },
  "language_info": {
   "codemirror_mode": {
    "name": "ipython",
    "version": 3
   },
   "file_extension": ".py",
   "mimetype": "text/x-python",
   "name": "python",
   "nbconvert_exporter": "python",
   "pygments_lexer": "ipython3",
   "version": "3.10.8"
  },
  "papermill": {
   "default_parameters": {},
   "duration": 305.447181,
   "end_time": "2022-12-03T15:10:57.441374",
   "environment_variables": {},
   "exception": null,
   "input_path": "__notebook__.ipynb",
   "output_path": "__notebook__.ipynb",
   "parameters": {},
   "start_time": "2022-12-03T15:05:51.994193",
   "version": "2.3.4"
  },
  "vscode": {
   "interpreter": {
    "hash": "767d51c1340bd893661ea55ea3124f6de3c7a262a8b4abca0554b478b1e2ff90"
   }
  },
  "widgets": {
   "application/vnd.jupyter.widget-state+json": {
    "state": {
     "0fbc68d0a84945199ab227033fae10eb": {
      "model_module": "@jupyter-widgets/controls",
      "model_module_version": "1.5.0",
      "model_name": "DescriptionStyleModel",
      "state": {
       "_model_module": "@jupyter-widgets/controls",
       "_model_module_version": "1.5.0",
       "_model_name": "DescriptionStyleModel",
       "_view_count": null,
       "_view_module": "@jupyter-widgets/base",
       "_view_module_version": "1.2.0",
       "_view_name": "StyleView",
       "description_width": ""
      }
     },
     "13415f5a2c1949c688a4aa1e96bc9bc1": {
      "model_module": "@jupyter-widgets/base",
      "model_module_version": "1.2.0",
      "model_name": "LayoutModel",
      "state": {
       "_model_module": "@jupyter-widgets/base",
       "_model_module_version": "1.2.0",
       "_model_name": "LayoutModel",
       "_view_count": null,
       "_view_module": "@jupyter-widgets/base",
       "_view_module_version": "1.2.0",
       "_view_name": "LayoutView",
       "align_content": null,
       "align_items": null,
       "align_self": null,
       "border": null,
       "bottom": null,
       "display": null,
       "flex": "2",
       "flex_flow": null,
       "grid_area": null,
       "grid_auto_columns": null,
       "grid_auto_flow": null,
       "grid_auto_rows": null,
       "grid_column": null,
       "grid_gap": null,
       "grid_row": null,
       "grid_template_areas": null,
       "grid_template_columns": null,
       "grid_template_rows": null,
       "height": null,
       "justify_content": null,
       "justify_items": null,
       "left": null,
       "margin": null,
       "max_height": null,
       "max_width": null,
       "min_height": null,
       "min_width": null,
       "object_fit": null,
       "object_position": null,
       "order": null,
       "overflow": null,
       "overflow_x": null,
       "overflow_y": null,
       "padding": null,
       "right": null,
       "top": null,
       "visibility": null,
       "width": null
      }
     },
     "2226b548f9184f7da50620cc2d797f4e": {
      "model_module": "@jupyter-widgets/controls",
      "model_module_version": "1.5.0",
      "model_name": "HTMLModel",
      "state": {
       "_dom_classes": [],
       "_model_module": "@jupyter-widgets/controls",
       "_model_module_version": "1.5.0",
       "_model_name": "HTMLModel",
       "_view_count": null,
       "_view_module": "@jupyter-widgets/controls",
       "_view_module_version": "1.5.0",
       "_view_name": "HTMLView",
       "description": "",
       "description_tooltip": null,
       "layout": "IPY_MODEL_8d3bdd2f75a74a12893c743f02d33e9b",
       "placeholder": "​",
       "style": "IPY_MODEL_0fbc68d0a84945199ab227033fae10eb",
       "value": " 73/73 [00:18&lt;00:00,  3.86it/s, loss=0.0625, v_num=0]"
      }
     },
     "240bed7f8f884001a64ca776927a0e84": {
      "model_module": "@jupyter-widgets/controls",
      "model_module_version": "1.5.0",
      "model_name": "HBoxModel",
      "state": {
       "_dom_classes": [],
       "_model_module": "@jupyter-widgets/controls",
       "_model_module_version": "1.5.0",
       "_model_name": "HBoxModel",
       "_view_count": null,
       "_view_module": "@jupyter-widgets/controls",
       "_view_module_version": "1.5.0",
       "_view_name": "HBoxView",
       "box_style": "",
       "children": [
        "IPY_MODEL_accd69dd6f25477197c63a0c9b08ebb3",
        "IPY_MODEL_4f563111f8744ee1a948e7074b02aba4",
        "IPY_MODEL_2226b548f9184f7da50620cc2d797f4e"
       ],
       "layout": "IPY_MODEL_94064dd739de4f5b90c58f7b1157c47d"
      }
     },
     "24ec24dad7234313bef2a86fe6f13a55": {
      "model_module": "@jupyter-widgets/base",
      "model_module_version": "1.2.0",
      "model_name": "LayoutModel",
      "state": {
       "_model_module": "@jupyter-widgets/base",
       "_model_module_version": "1.2.0",
       "_model_name": "LayoutModel",
       "_view_count": null,
       "_view_module": "@jupyter-widgets/base",
       "_view_module_version": "1.2.0",
       "_view_name": "LayoutView",
       "align_content": null,
       "align_items": null,
       "align_self": null,
       "border": null,
       "bottom": null,
       "display": null,
       "flex": null,
       "flex_flow": null,
       "grid_area": null,
       "grid_auto_columns": null,
       "grid_auto_flow": null,
       "grid_auto_rows": null,
       "grid_column": null,
       "grid_gap": null,
       "grid_row": null,
       "grid_template_areas": null,
       "grid_template_columns": null,
       "grid_template_rows": null,
       "height": null,
       "justify_content": null,
       "justify_items": null,
       "left": null,
       "margin": null,
       "max_height": null,
       "max_width": null,
       "min_height": null,
       "min_width": null,
       "object_fit": null,
       "object_position": null,
       "order": null,
       "overflow": null,
       "overflow_x": null,
       "overflow_y": null,
       "padding": null,
       "right": null,
       "top": null,
       "visibility": null,
       "width": null
      }
     },
     "44ba956074994bd79e8823e9511b549e": {
      "model_module": "@jupyter-widgets/base",
      "model_module_version": "1.2.0",
      "model_name": "LayoutModel",
      "state": {
       "_model_module": "@jupyter-widgets/base",
       "_model_module_version": "1.2.0",
       "_model_name": "LayoutModel",
       "_view_count": null,
       "_view_module": "@jupyter-widgets/base",
       "_view_module_version": "1.2.0",
       "_view_name": "LayoutView",
       "align_content": null,
       "align_items": null,
       "align_self": null,
       "border": null,
       "bottom": null,
       "display": null,
       "flex": null,
       "flex_flow": null,
       "grid_area": null,
       "grid_auto_columns": null,
       "grid_auto_flow": null,
       "grid_auto_rows": null,
       "grid_column": null,
       "grid_gap": null,
       "grid_row": null,
       "grid_template_areas": null,
       "grid_template_columns": null,
       "grid_template_rows": null,
       "height": null,
       "justify_content": null,
       "justify_items": null,
       "left": null,
       "margin": null,
       "max_height": null,
       "max_width": null,
       "min_height": null,
       "min_width": null,
       "object_fit": null,
       "object_position": null,
       "order": null,
       "overflow": null,
       "overflow_x": null,
       "overflow_y": null,
       "padding": null,
       "right": null,
       "top": null,
       "visibility": null,
       "width": null
      }
     },
     "4f563111f8744ee1a948e7074b02aba4": {
      "model_module": "@jupyter-widgets/controls",
      "model_module_version": "1.5.0",
      "model_name": "FloatProgressModel",
      "state": {
       "_dom_classes": [],
       "_model_module": "@jupyter-widgets/controls",
       "_model_module_version": "1.5.0",
       "_model_name": "FloatProgressModel",
       "_view_count": null,
       "_view_module": "@jupyter-widgets/controls",
       "_view_module_version": "1.5.0",
       "_view_name": "ProgressView",
       "bar_style": "success",
       "description": "",
       "description_tooltip": null,
       "layout": "IPY_MODEL_f61bad1f5f4e4ac2a9497412449cbe3c",
       "max": 73,
       "min": 0,
       "orientation": "horizontal",
       "style": "IPY_MODEL_e66ee92531d54995b5eb6e4c757324bf",
       "value": 73
      }
     },
     "684ec28275e84438869b49a27e753fdb": {
      "model_module": "@jupyter-widgets/base",
      "model_module_version": "1.2.0",
      "model_name": "LayoutModel",
      "state": {
       "_model_module": "@jupyter-widgets/base",
       "_model_module_version": "1.2.0",
       "_model_name": "LayoutModel",
       "_view_count": null,
       "_view_module": "@jupyter-widgets/base",
       "_view_module_version": "1.2.0",
       "_view_name": "LayoutView",
       "align_content": null,
       "align_items": null,
       "align_self": null,
       "border": null,
       "bottom": null,
       "display": "inline-flex",
       "flex": null,
       "flex_flow": "row wrap",
       "grid_area": null,
       "grid_auto_columns": null,
       "grid_auto_flow": null,
       "grid_auto_rows": null,
       "grid_column": null,
       "grid_gap": null,
       "grid_row": null,
       "grid_template_areas": null,
       "grid_template_columns": null,
       "grid_template_rows": null,
       "height": null,
       "justify_content": null,
       "justify_items": null,
       "left": null,
       "margin": null,
       "max_height": null,
       "max_width": null,
       "min_height": null,
       "min_width": null,
       "object_fit": null,
       "object_position": null,
       "order": null,
       "overflow": null,
       "overflow_x": null,
       "overflow_y": null,
       "padding": null,
       "right": null,
       "top": null,
       "visibility": null,
       "width": "100%"
      }
     },
     "88417f51bd4344a2966569fff68f0fce": {
      "model_module": "@jupyter-widgets/base",
      "model_module_version": "1.2.0",
      "model_name": "LayoutModel",
      "state": {
       "_model_module": "@jupyter-widgets/base",
       "_model_module_version": "1.2.0",
       "_model_name": "LayoutModel",
       "_view_count": null,
       "_view_module": "@jupyter-widgets/base",
       "_view_module_version": "1.2.0",
       "_view_name": "LayoutView",
       "align_content": null,
       "align_items": null,
       "align_self": null,
       "border": null,
       "bottom": null,
       "display": null,
       "flex": null,
       "flex_flow": null,
       "grid_area": null,
       "grid_auto_columns": null,
       "grid_auto_flow": null,
       "grid_auto_rows": null,
       "grid_column": null,
       "grid_gap": null,
       "grid_row": null,
       "grid_template_areas": null,
       "grid_template_columns": null,
       "grid_template_rows": null,
       "height": null,
       "justify_content": null,
       "justify_items": null,
       "left": null,
       "margin": null,
       "max_height": null,
       "max_width": null,
       "min_height": null,
       "min_width": null,
       "object_fit": null,
       "object_position": null,
       "order": null,
       "overflow": null,
       "overflow_x": null,
       "overflow_y": null,
       "padding": null,
       "right": null,
       "top": null,
       "visibility": null,
       "width": null
      }
     },
     "89d22cceb2fa4f6aaaea1352fb137793": {
      "model_module": "@jupyter-widgets/controls",
      "model_module_version": "1.5.0",
      "model_name": "ProgressStyleModel",
      "state": {
       "_model_module": "@jupyter-widgets/controls",
       "_model_module_version": "1.5.0",
       "_model_name": "ProgressStyleModel",
       "_view_count": null,
       "_view_module": "@jupyter-widgets/base",
       "_view_module_version": "1.2.0",
       "_view_name": "StyleView",
       "bar_color": null,
       "description_width": ""
      }
     },
     "8d3bdd2f75a74a12893c743f02d33e9b": {
      "model_module": "@jupyter-widgets/base",
      "model_module_version": "1.2.0",
      "model_name": "LayoutModel",
      "state": {
       "_model_module": "@jupyter-widgets/base",
       "_model_module_version": "1.2.0",
       "_model_name": "LayoutModel",
       "_view_count": null,
       "_view_module": "@jupyter-widgets/base",
       "_view_module_version": "1.2.0",
       "_view_name": "LayoutView",
       "align_content": null,
       "align_items": null,
       "align_self": null,
       "border": null,
       "bottom": null,
       "display": null,
       "flex": null,
       "flex_flow": null,
       "grid_area": null,
       "grid_auto_columns": null,
       "grid_auto_flow": null,
       "grid_auto_rows": null,
       "grid_column": null,
       "grid_gap": null,
       "grid_row": null,
       "grid_template_areas": null,
       "grid_template_columns": null,
       "grid_template_rows": null,
       "height": null,
       "justify_content": null,
       "justify_items": null,
       "left": null,
       "margin": null,
       "max_height": null,
       "max_width": null,
       "min_height": null,
       "min_width": null,
       "object_fit": null,
       "object_position": null,
       "order": null,
       "overflow": null,
       "overflow_x": null,
       "overflow_y": null,
       "padding": null,
       "right": null,
       "top": null,
       "visibility": null,
       "width": null
      }
     },
     "8e5e4d84886442e093643bc34fe37e84": {
      "model_module": "@jupyter-widgets/controls",
      "model_module_version": "1.5.0",
      "model_name": "FloatProgressModel",
      "state": {
       "_dom_classes": [],
       "_model_module": "@jupyter-widgets/controls",
       "_model_module_version": "1.5.0",
       "_model_name": "FloatProgressModel",
       "_view_count": null,
       "_view_module": "@jupyter-widgets/controls",
       "_view_module_version": "1.5.0",
       "_view_name": "ProgressView",
       "bar_style": "success",
       "description": "",
       "description_tooltip": null,
       "layout": "IPY_MODEL_13415f5a2c1949c688a4aa1e96bc9bc1",
       "max": 24,
       "min": 0,
       "orientation": "horizontal",
       "style": "IPY_MODEL_89d22cceb2fa4f6aaaea1352fb137793",
       "value": 24
      }
     },
     "917218d252b840c0ae8f1128c235a16d": {
      "model_module": "@jupyter-widgets/controls",
      "model_module_version": "1.5.0",
      "model_name": "HTMLModel",
      "state": {
       "_dom_classes": [],
       "_model_module": "@jupyter-widgets/controls",
       "_model_module_version": "1.5.0",
       "_model_name": "HTMLModel",
       "_view_count": null,
       "_view_module": "@jupyter-widgets/controls",
       "_view_module_version": "1.5.0",
       "_view_name": "HTMLView",
       "description": "",
       "description_tooltip": null,
       "layout": "IPY_MODEL_88417f51bd4344a2966569fff68f0fce",
       "placeholder": "​",
       "style": "IPY_MODEL_b129312b19ae4c749399bdf6ce620c1b",
       "value": "Testing DataLoader 0: 100%"
      }
     },
     "94064dd739de4f5b90c58f7b1157c47d": {
      "model_module": "@jupyter-widgets/base",
      "model_module_version": "1.2.0",
      "model_name": "LayoutModel",
      "state": {
       "_model_module": "@jupyter-widgets/base",
       "_model_module_version": "1.2.0",
       "_model_name": "LayoutModel",
       "_view_count": null,
       "_view_module": "@jupyter-widgets/base",
       "_view_module_version": "1.2.0",
       "_view_name": "LayoutView",
       "align_content": null,
       "align_items": null,
       "align_self": null,
       "border": null,
       "bottom": null,
       "display": "inline-flex",
       "flex": null,
       "flex_flow": "row wrap",
       "grid_area": null,
       "grid_auto_columns": null,
       "grid_auto_flow": null,
       "grid_auto_rows": null,
       "grid_column": null,
       "grid_gap": null,
       "grid_row": null,
       "grid_template_areas": null,
       "grid_template_columns": null,
       "grid_template_rows": null,
       "height": null,
       "justify_content": null,
       "justify_items": null,
       "left": null,
       "margin": null,
       "max_height": null,
       "max_width": null,
       "min_height": null,
       "min_width": null,
       "object_fit": null,
       "object_position": null,
       "order": null,
       "overflow": null,
       "overflow_x": null,
       "overflow_y": null,
       "padding": null,
       "right": null,
       "top": null,
       "visibility": null,
       "width": "100%"
      }
     },
     "a9f2818d25944c13a9b723e2bbfb334c": {
      "model_module": "@jupyter-widgets/controls",
      "model_module_version": "1.5.0",
      "model_name": "HTMLModel",
      "state": {
       "_dom_classes": [],
       "_model_module": "@jupyter-widgets/controls",
       "_model_module_version": "1.5.0",
       "_model_name": "HTMLModel",
       "_view_count": null,
       "_view_module": "@jupyter-widgets/controls",
       "_view_module_version": "1.5.0",
       "_view_name": "HTMLView",
       "description": "",
       "description_tooltip": null,
       "layout": "IPY_MODEL_24ec24dad7234313bef2a86fe6f13a55",
       "placeholder": "​",
       "style": "IPY_MODEL_f977ba5870f9409cb2b2982fe7e78826",
       "value": " 24/24 [00:02&lt;00:00,  9.25it/s]"
      }
     },
     "aa731c9fd54e4b11891e07da6dc642b3": {
      "model_module": "@jupyter-widgets/controls",
      "model_module_version": "1.5.0",
      "model_name": "HBoxModel",
      "state": {
       "_dom_classes": [],
       "_model_module": "@jupyter-widgets/controls",
       "_model_module_version": "1.5.0",
       "_model_name": "HBoxModel",
       "_view_count": null,
       "_view_module": "@jupyter-widgets/controls",
       "_view_module_version": "1.5.0",
       "_view_name": "HBoxView",
       "box_style": "",
       "children": [
        "IPY_MODEL_917218d252b840c0ae8f1128c235a16d",
        "IPY_MODEL_8e5e4d84886442e093643bc34fe37e84",
        "IPY_MODEL_a9f2818d25944c13a9b723e2bbfb334c"
       ],
       "layout": "IPY_MODEL_684ec28275e84438869b49a27e753fdb"
      }
     },
     "accd69dd6f25477197c63a0c9b08ebb3": {
      "model_module": "@jupyter-widgets/controls",
      "model_module_version": "1.5.0",
      "model_name": "HTMLModel",
      "state": {
       "_dom_classes": [],
       "_model_module": "@jupyter-widgets/controls",
       "_model_module_version": "1.5.0",
       "_model_name": "HTMLModel",
       "_view_count": null,
       "_view_module": "@jupyter-widgets/controls",
       "_view_module_version": "1.5.0",
       "_view_name": "HTMLView",
       "description": "",
       "description_tooltip": null,
       "layout": "IPY_MODEL_44ba956074994bd79e8823e9511b549e",
       "placeholder": "​",
       "style": "IPY_MODEL_b566707257f04dc89ed61922355cd6b2",
       "value": "Epoch 9: 100%"
      }
     },
     "b129312b19ae4c749399bdf6ce620c1b": {
      "model_module": "@jupyter-widgets/controls",
      "model_module_version": "1.5.0",
      "model_name": "DescriptionStyleModel",
      "state": {
       "_model_module": "@jupyter-widgets/controls",
       "_model_module_version": "1.5.0",
       "_model_name": "DescriptionStyleModel",
       "_view_count": null,
       "_view_module": "@jupyter-widgets/base",
       "_view_module_version": "1.2.0",
       "_view_name": "StyleView",
       "description_width": ""
      }
     },
     "b566707257f04dc89ed61922355cd6b2": {
      "model_module": "@jupyter-widgets/controls",
      "model_module_version": "1.5.0",
      "model_name": "DescriptionStyleModel",
      "state": {
       "_model_module": "@jupyter-widgets/controls",
       "_model_module_version": "1.5.0",
       "_model_name": "DescriptionStyleModel",
       "_view_count": null,
       "_view_module": "@jupyter-widgets/base",
       "_view_module_version": "1.2.0",
       "_view_name": "StyleView",
       "description_width": ""
      }
     },
     "e66ee92531d54995b5eb6e4c757324bf": {
      "model_module": "@jupyter-widgets/controls",
      "model_module_version": "1.5.0",
      "model_name": "ProgressStyleModel",
      "state": {
       "_model_module": "@jupyter-widgets/controls",
       "_model_module_version": "1.5.0",
       "_model_name": "ProgressStyleModel",
       "_view_count": null,
       "_view_module": "@jupyter-widgets/base",
       "_view_module_version": "1.2.0",
       "_view_name": "StyleView",
       "bar_color": null,
       "description_width": ""
      }
     },
     "f61bad1f5f4e4ac2a9497412449cbe3c": {
      "model_module": "@jupyter-widgets/base",
      "model_module_version": "1.2.0",
      "model_name": "LayoutModel",
      "state": {
       "_model_module": "@jupyter-widgets/base",
       "_model_module_version": "1.2.0",
       "_model_name": "LayoutModel",
       "_view_count": null,
       "_view_module": "@jupyter-widgets/base",
       "_view_module_version": "1.2.0",
       "_view_name": "LayoutView",
       "align_content": null,
       "align_items": null,
       "align_self": null,
       "border": null,
       "bottom": null,
       "display": null,
       "flex": "2",
       "flex_flow": null,
       "grid_area": null,
       "grid_auto_columns": null,
       "grid_auto_flow": null,
       "grid_auto_rows": null,
       "grid_column": null,
       "grid_gap": null,
       "grid_row": null,
       "grid_template_areas": null,
       "grid_template_columns": null,
       "grid_template_rows": null,
       "height": null,
       "justify_content": null,
       "justify_items": null,
       "left": null,
       "margin": null,
       "max_height": null,
       "max_width": null,
       "min_height": null,
       "min_width": null,
       "object_fit": null,
       "object_position": null,
       "order": null,
       "overflow": null,
       "overflow_x": null,
       "overflow_y": null,
       "padding": null,
       "right": null,
       "top": null,
       "visibility": null,
       "width": null
      }
     },
     "f977ba5870f9409cb2b2982fe7e78826": {
      "model_module": "@jupyter-widgets/controls",
      "model_module_version": "1.5.0",
      "model_name": "DescriptionStyleModel",
      "state": {
       "_model_module": "@jupyter-widgets/controls",
       "_model_module_version": "1.5.0",
       "_model_name": "DescriptionStyleModel",
       "_view_count": null,
       "_view_module": "@jupyter-widgets/base",
       "_view_module_version": "1.2.0",
       "_view_name": "StyleView",
       "description_width": ""
      }
     }
    },
    "version_major": 2,
    "version_minor": 0
   }
  }
 },
 "nbformat": 4,
 "nbformat_minor": 5
}
