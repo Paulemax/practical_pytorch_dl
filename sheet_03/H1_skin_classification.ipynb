{
 "cells": [
  {
   "cell_type": "code",
   "execution_count": 1,
   "id": "fd6cc182",
   "metadata": {},
   "outputs": [],
   "source": [
    "import pandas as pd\n",
    "from sklearn.model_selection import train_test_split\n",
    "from sklearn.preprocessing import StandardScaler"
   ]
  },
  {
   "cell_type": "code",
   "execution_count": 2,
   "id": "4b91ef22",
   "metadata": {},
   "outputs": [
    {
     "name": "stdout",
     "output_type": "stream",
     "text": [
      "--2022-11-09 09:59:16--  https://archive.ics.uci.edu/ml/machine-learning-databases/00229/Skin_NonSkin.txt\n",
      "Loaded CA certificate '/etc/ssl/certs/ca-certificates.crt'\n",
      "Resolving archive.ics.uci.edu (archive.ics.uci.edu)... 128.195.10.252\n",
      "Connecting to archive.ics.uci.edu (archive.ics.uci.edu)|128.195.10.252|:443... connected.\n",
      "HTTP request sent, awaiting response... 200 OK\n",
      "Length: 3400818 (3.2M) [application/x-httpd-php]\n",
      "Saving to: ‘Skin_NonSkin.txt’\n",
      "\n",
      "Skin_NonSkin.txt    100%[===================>]   3.24M  1.05MB/s    in 3.1s    \n",
      "\n",
      "2022-11-09 09:59:20 (1.05 MB/s) - ‘Skin_NonSkin.txt’ saved [3400818/3400818]\n",
      "\n"
     ]
    }
   ],
   "source": [
    "# download the data\n",
    "#!wget https://archive.ics.uci.edu/ml/machine-learning-databases/00229/Skin_NonSkin.txt"
   ]
  },
  {
   "cell_type": "code",
   "execution_count": 2,
   "id": "63a53271",
   "metadata": {},
   "outputs": [],
   "source": [
    "df = pd.read_csv('Skin_NonSkin.txt', delimiter=\"\\t\", header=None, names=['B', 'G', 'R', 'label'])"
   ]
  },
  {
   "cell_type": "code",
   "execution_count": 3,
   "id": "41c620a2",
   "metadata": {},
   "outputs": [
    {
     "data": {
      "text/plain": [
       "((196045, 3), (49012, 3), (196045,), (49012,))"
      ]
     },
     "execution_count": 3,
     "metadata": {},
     "output_type": "execute_result"
    }
   ],
   "source": [
    "x_train, x_test, y_train, y_test = train_test_split(df[['R','B','G']].values, df['label'].values, test_size=0.2, random_state=0)\n",
    "x_train.shape, x_test.shape, y_train.shape, y_test.shape"
   ]
  },
  {
   "cell_type": "code",
   "execution_count": 4,
   "id": "c2bdf482",
   "metadata": {},
   "outputs": [],
   "source": [
    "scaler = StandardScaler().fit(x_train)"
   ]
  },
  {
   "cell_type": "code",
   "execution_count": 5,
   "id": "398accf8",
   "metadata": {},
   "outputs": [],
   "source": [
    "x_train_scaled = scaler.transform(x_train)\n",
    "x_test_scaled = scaler.transform(x_test)"
   ]
  },
  {
   "cell_type": "code",
   "execution_count": 6,
   "id": "af6555f7",
   "metadata": {},
   "outputs": [
    {
     "data": {
      "text/plain": [
       "((196045, 3), (49012, 3))"
      ]
     },
     "execution_count": 6,
     "metadata": {},
     "output_type": "execute_result"
    }
   ],
   "source": [
    "x_train_scaled.shape, x_test_scaled.shape"
   ]
  },
  {
   "cell_type": "code",
   "execution_count": 7,
   "id": "a9f24e73",
   "metadata": {},
   "outputs": [],
   "source": [
    "from dataclasses import dataclass\n",
    "from typing import Tuple\n",
    "import torch\n",
    "import numpy as np\n",
    "\n",
    "@dataclass(eq=False)\n",
    "class SkinDataset(torch.utils.data.Dataset):\n",
    "    data: np.ndarray\n",
    "    labels: np.ndarray\n",
    "\n",
    "    def __new__(cls, *args, **kwargs):\n",
    "        obj = object.__new__(cls)\n",
    "        torch.utils.data.Dataset.__init__(obj)\n",
    "        return obj\n",
    "\n",
    "    def __post_init__(self):\n",
    "        self.data = self.data.astype(np.float32)\n",
    "        self.labels = self.labels - 1\n",
    "        \n",
    "    def __len__(self) -> int:\n",
    "        return self.data.shape[0]\n",
    "    \n",
    "    def __getitem__(self, idx: int) -> Tuple[np.ndarray, int]:\n",
    "        return self.data[idx, ::], self.labels[idx]"
   ]
  },
  {
   "cell_type": "code",
   "execution_count": 8,
   "id": "9dacc091",
   "metadata": {},
   "outputs": [],
   "source": [
    "ds_train = SkinDataset(x_train_scaled, y_train)\n",
    "ds_test = SkinDataset(x_test_scaled, y_test)"
   ]
  },
  {
   "cell_type": "code",
   "execution_count": 9,
   "id": "d0821de9",
   "metadata": {},
   "outputs": [],
   "source": [
    "from torch.utils.data import DataLoader\n",
    "\n",
    "BATCH_SIZE: int = 256\n",
    "\n",
    "dl_train = DataLoader(ds_train, shuffle=True, batch_size=BATCH_SIZE, drop_last=False)\n",
    "dl_test = DataLoader(ds_test, shuffle=False, batch_size=BATCH_SIZE, drop_last=False)"
   ]
  },
  {
   "cell_type": "code",
   "execution_count": 30,
   "id": "cf98e0e9",
   "metadata": {},
   "outputs": [],
   "source": [
    "from typing import Any\n",
    "\n",
    "import pytorch_lightning as pl\n",
    "import torchmetrics\n",
    "\n",
    "\n",
    "class SkinMLP(pl.LightningModule):\n",
    "\n",
    "    def __init__(self, loss: callable, lr: float) -> None:\n",
    "        super().__init__()\n",
    "        self.mlp = torch.nn.Sequential(\n",
    "            torch.nn.Linear(3, 100),\n",
    "            torch.nn.ReLU(),\n",
    "            torch.nn.Linear(100, 500),\n",
    "            torch.nn.ReLU(),\n",
    "            torch.nn.Linear(500, 2),\n",
    "        )\n",
    "        self.loss = loss\n",
    "        self.lr = lr\n",
    "\n",
    "    def forward(self, x: torch.Tensor) -> torch.Tensor:\n",
    "        return self.mlp(x)\n",
    "\n",
    "    def _step(self, batch) -> torch.Tensor:\n",
    "        x, y = batch\n",
    "        pred = self.forward(x)\n",
    "        loss = self.loss(pred, y)\n",
    "        return pred, loss\n",
    "\n",
    "    def training_step(self, batch) -> torch.Tensor:\n",
    "        pred, loss = self._step(batch)\n",
    "        self.log(\"train/loss\", loss)\n",
    "        pred = torch.nn.functional.softmax(pred)\n",
    "        auroc = torchmetrics.functional.auroc(pred, batch[-1], num_classes=2)\n",
    "        acc = torchmetrics.functional.accuracy(pred, batch[-1], num_classes=2)\n",
    "        self.log(\"train/auc\", auroc)\n",
    "        self.log(\"train/acc\", acc)\n",
    "        return loss\n",
    "\n",
    "    def on_test_epoch_start(self) -> None:\n",
    "        self.auroc = torchmetrics.AUROC(num_classes=2)\n",
    "        self.acc = torchmetrics.Accuracy(num_classes=2)\n",
    "\n",
    "    def test_step(self, batch: torch.Tensor, batch_idx: int) -> torch.Tensor:\n",
    "        pred, loss = self._step(batch)\n",
    "        self.log(\"test\", loss)\n",
    "        pred = torch.nn.functional.softmax(pred)\n",
    "        self.auroc.update(pred, batch[-1])\n",
    "        self.acc.update(pred, batch[-1])\n",
    "\n",
    "    def test_epoch_end(self, outputs) -> None:\n",
    "        print(f\"Test AUROC: {self.auroc.compute().data}\")\n",
    "        print(f\"Test Accuracy: {self.acc.compute().data}\")\n",
    "\n",
    "    def configure_optimizers(self) -> Any:\n",
    "        optim = torch.optim.Adam(self.parameters(), lr=self.lr)\n",
    "        return optim"
   ]
  },
  {
   "cell_type": "code",
   "execution_count": 31,
   "id": "353b09f4",
   "metadata": {},
   "outputs": [
    {
     "name": "stderr",
     "output_type": "stream",
     "text": [
      "GPU available: False, used: False\n",
      "TPU available: False, using: 0 TPU cores\n",
      "IPU available: False, using: 0 IPUs\n",
      "HPU available: False, using: 0 HPUs\n",
      "Missing logger folder: /home/paul/workspaces/PycharmProjects/practical_pytorch_dl/sheet_03/lightning_logs\n",
      "\n",
      "  | Name | Type             | Params\n",
      "------------------------------------------\n",
      "0 | mlp  | Sequential       | 51.9 K\n",
      "1 | loss | CrossEntropyLoss | 0     \n",
      "------------------------------------------\n",
      "51.9 K    Trainable params\n",
      "0         Non-trainable params\n",
      "51.9 K    Total params\n",
      "0.208     Total estimated model params size (MB)\n"
     ]
    },
    {
     "name": "stdout",
     "output_type": "stream",
     "text": [
      "Training Model: 0.001, with lr: 0 for: 10\n"
     ]
    },
    {
     "name": "stderr",
     "output_type": "stream",
     "text": [
      "/home/paul/workspaces/PycharmProjects/practical_pytorch_dl/venv/lib/python3.10/site-packages/pytorch_lightning/trainer/connectors/data_connector.py:224: PossibleUserWarning: The dataloader, train_dataloader, does not have many workers which may be a bottleneck. Consider increasing the value of the `num_workers` argument` (try 8 which is the number of cpus on this machine) in the `DataLoader` init to improve performance.\n",
      "  rank_zero_warn(\n"
     ]
    },
    {
     "data": {
      "application/vnd.jupyter.widget-view+json": {
       "model_id": "b26dcd6bd2f54a00b7b33c4567539744",
       "version_major": 2,
       "version_minor": 0
      },
      "text/plain": [
       "Training: 0it [00:00, ?it/s]"
      ]
     },
     "metadata": {},
     "output_type": "display_data"
    },
    {
     "name": "stderr",
     "output_type": "stream",
     "text": [
      "/tmp/ipykernel_344475/3600986959.py:33: UserWarning: Implicit dimension choice for softmax has been deprecated. Change the call to include dim=X as an argument.\n",
      "  pred = torch.nn.functional.softmax(pred)\n",
      "`Trainer.fit` stopped: `max_epochs=10` reached.\n",
      "/home/paul/workspaces/PycharmProjects/practical_pytorch_dl/venv/lib/python3.10/site-packages/pytorch_lightning/trainer/connectors/data_connector.py:224: PossibleUserWarning: The dataloader, test_dataloader 0, does not have many workers which may be a bottleneck. Consider increasing the value of the `num_workers` argument` (try 8 which is the number of cpus on this machine) in the `DataLoader` init to improve performance.\n",
      "  rank_zero_warn(\n"
     ]
    },
    {
     "data": {
      "application/vnd.jupyter.widget-view+json": {
       "model_id": "021fbe08c0aa4d1688955136f27ee7b9",
       "version_major": 2,
       "version_minor": 0
      },
      "text/plain": [
       "Testing: 0it [00:00, ?it/s]"
      ]
     },
     "metadata": {},
     "output_type": "display_data"
    },
    {
     "name": "stderr",
     "output_type": "stream",
     "text": [
      "/home/paul/workspaces/PycharmProjects/practical_pytorch_dl/venv/lib/python3.10/site-packages/torchmetrics/utilities/prints.py:36: UserWarning: Metric `AUROC` will save all targets and predictions in buffer. For large datasets this may lead to large memory footprint.\n",
      "  warnings.warn(*args, **kwargs)\n",
      "/tmp/ipykernel_344475/3600986959.py:47: UserWarning: Implicit dimension choice for softmax has been deprecated. Change the call to include dim=X as an argument.\n",
      "  pred = torch.nn.functional.softmax(pred)\n",
      "GPU available: False, used: False\n",
      "TPU available: False, using: 0 TPU cores\n",
      "IPU available: False, using: 0 IPUs\n",
      "HPU available: False, using: 0 HPUs\n",
      "\n",
      "  | Name | Type             | Params\n",
      "------------------------------------------\n",
      "0 | mlp  | Sequential       | 51.9 K\n",
      "1 | loss | CrossEntropyLoss | 0     \n",
      "------------------------------------------\n",
      "51.9 K    Trainable params\n",
      "0         Non-trainable params\n",
      "51.9 K    Total params\n",
      "0.208     Total estimated model params size (MB)\n"
     ]
    },
    {
     "name": "stdout",
     "output_type": "stream",
     "text": [
      "Test AUROC: 0.6158872246742249\n",
      "Test Accuracy: 0.3644413650035858\n",
      "────────────────────────────────────────────────────────────────────────────────────────────────────────────────────────\n",
      "       Test metric             DataLoader 0\n",
      "────────────────────────────────────────────────────────────────────────────────────────────────────────────────────────\n",
      "          test              0.7193893790245056\n",
      "────────────────────────────────────────────────────────────────────────────────────────────────────────────────────────\n",
      "Training Model: 1e-05, with lr: 1 for: 10\n"
     ]
    },
    {
     "name": "stderr",
     "output_type": "stream",
     "text": [
      "/home/paul/workspaces/PycharmProjects/practical_pytorch_dl/venv/lib/python3.10/site-packages/pytorch_lightning/trainer/connectors/data_connector.py:224: PossibleUserWarning: The dataloader, train_dataloader, does not have many workers which may be a bottleneck. Consider increasing the value of the `num_workers` argument` (try 8 which is the number of cpus on this machine) in the `DataLoader` init to improve performance.\n",
      "  rank_zero_warn(\n"
     ]
    },
    {
     "data": {
      "application/vnd.jupyter.widget-view+json": {
       "model_id": "c0e808615f6c46d48ee30618eb5e7a3c",
       "version_major": 2,
       "version_minor": 0
      },
      "text/plain": [
       "Training: 0it [00:00, ?it/s]"
      ]
     },
     "metadata": {},
     "output_type": "display_data"
    },
    {
     "name": "stderr",
     "output_type": "stream",
     "text": [
      "/tmp/ipykernel_344475/3600986959.py:33: UserWarning: Implicit dimension choice for softmax has been deprecated. Change the call to include dim=X as an argument.\n",
      "  pred = torch.nn.functional.softmax(pred)\n",
      "`Trainer.fit` stopped: `max_epochs=10` reached.\n",
      "/home/paul/workspaces/PycharmProjects/practical_pytorch_dl/venv/lib/python3.10/site-packages/pytorch_lightning/trainer/connectors/data_connector.py:224: PossibleUserWarning: The dataloader, test_dataloader 0, does not have many workers which may be a bottleneck. Consider increasing the value of the `num_workers` argument` (try 8 which is the number of cpus on this machine) in the `DataLoader` init to improve performance.\n",
      "  rank_zero_warn(\n"
     ]
    },
    {
     "data": {
      "application/vnd.jupyter.widget-view+json": {
       "model_id": "f35ca63263df4f61870f9f1ba68f3238",
       "version_major": 2,
       "version_minor": 0
      },
      "text/plain": [
       "Testing: 0it [00:00, ?it/s]"
      ]
     },
     "metadata": {},
     "output_type": "display_data"
    },
    {
     "name": "stderr",
     "output_type": "stream",
     "text": [
      "/home/paul/workspaces/PycharmProjects/practical_pytorch_dl/venv/lib/python3.10/site-packages/torchmetrics/utilities/prints.py:36: UserWarning: Metric `AUROC` will save all targets and predictions in buffer. For large datasets this may lead to large memory footprint.\n",
      "  warnings.warn(*args, **kwargs)\n",
      "/tmp/ipykernel_344475/3600986959.py:47: UserWarning: Implicit dimension choice for softmax has been deprecated. Change the call to include dim=X as an argument.\n",
      "  pred = torch.nn.functional.softmax(pred)\n"
     ]
    },
    {
     "name": "stdout",
     "output_type": "stream",
     "text": [
      "Test AUROC: 0.7555513381958008\n",
      "Test Accuracy: 0.7929690480232239\n",
      "────────────────────────────────────────────────────────────────────────────────────────────────────────────────────────\n",
      "       Test metric             DataLoader 0\n",
      "────────────────────────────────────────────────────────────────────────────────────────────────────────────────────────\n",
      "          test              0.3867000937461853\n",
      "────────────────────────────────────────────────────────────────────────────────────────────────────────────────────────\n"
     ]
    }
   ],
   "source": [
    "loss = torch.nn.CrossEntropyLoss()\n",
    "epochs = 10\n",
    "\n",
    "lrs = [1e-3, 1e-5]\n",
    "for lr, i in enumerate(lrs):\n",
    "    print(f\"Training Model: {i}, with lr: {lr} for: {epochs}\")\n",
    "    model = SkinMLP(loss, lr)\n",
    "    trainer = pl.Trainer(max_epochs=epochs, enable_progress_bar=True)\n",
    "    trainer.fit(model, train_dataloaders=dl_train)\n",
    "    trainer.test(model, dataloaders=dl_test)\n"
   ]
  },
  {
   "cell_type": "markdown",
   "id": "e749de50",
   "metadata": {},
   "source": [
    "# Results of the two Train and Test runs:\n",
    "\n",
    "- Model 1 (red): with lr: `1e-3`\n",
    "- Model 2 (blue): with lr: `1e-5`\n",
    "\n",
    "Training Loss:  \n",
    "![Training Loss](results/train_loss.png)  \n",
    "Training AUROC:  \n",
    "![Training AUROC](results/train_auroc.png)  \n",
    "Training Accuracy:  \n",
    "![Training Accuracy](results/train_acc.png)  \n",
    "\n",
    "## Final Results on the Test set: \n",
    "\n",
    "Model 1 : with lr: `1e-3`  \n",
    "Test AUROC: 0.6158  \n",
    "Test Accuracy: 0.3644  \n",
    "\n",
    "Model 2 : with lr: `1e-5`  \n",
    "Test AUROC: 0.7555  \n",
    "Test Accuracy: 0.7929  \n"
   ]
  }
 ],
 "metadata": {
  "kernelspec": {
   "display_name": "Python 3.10.8 ('venv': venv)",
   "language": "python",
   "name": "python3"
  },
  "language_info": {
   "codemirror_mode": {
    "name": "ipython",
    "version": 3
   },
   "file_extension": ".py",
   "mimetype": "text/x-python",
   "name": "python",
   "nbconvert_exporter": "python",
   "pygments_lexer": "ipython3",
   "version": "3.10.8"
  },
  "vscode": {
   "interpreter": {
    "hash": "1cd52e3fcb9baaa40b3d605a6296e70b2d59f0509251b8daccec7a45dc12b452"
   }
  }
 },
 "nbformat": 4,
 "nbformat_minor": 5
}
