{
 "cells": [
  {
   "cell_type": "code",
   "execution_count": 1,
   "id": "fd6cc182",
   "metadata": {},
   "outputs": [],
   "source": [
    "import pandas as pd\n",
    "from sklearn.model_selection import train_test_split\n",
    "from sklearn.preprocessing import StandardScaler"
   ]
  },
  {
   "cell_type": "code",
   "execution_count": 2,
   "id": "4b91ef22",
   "metadata": {},
   "outputs": [
    {
     "name": "stdout",
     "output_type": "stream",
     "text": [
      "--2022-11-09 09:59:16--  https://archive.ics.uci.edu/ml/machine-learning-databases/00229/Skin_NonSkin.txt\n",
      "Loaded CA certificate '/etc/ssl/certs/ca-certificates.crt'\n",
      "Resolving archive.ics.uci.edu (archive.ics.uci.edu)... 128.195.10.252\n",
      "Connecting to archive.ics.uci.edu (archive.ics.uci.edu)|128.195.10.252|:443... connected.\n",
      "HTTP request sent, awaiting response... 200 OK\n",
      "Length: 3400818 (3.2M) [application/x-httpd-php]\n",
      "Saving to: ‘Skin_NonSkin.txt’\n",
      "\n",
      "Skin_NonSkin.txt    100%[===================>]   3.24M  1.05MB/s    in 3.1s    \n",
      "\n",
      "2022-11-09 09:59:20 (1.05 MB/s) - ‘Skin_NonSkin.txt’ saved [3400818/3400818]\n",
      "\n"
     ]
    }
   ],
   "source": [
    "# download the data\n",
    "#!wget https://archive.ics.uci.edu/ml/machine-learning-databases/00229/Skin_NonSkin.txt"
   ]
  },
  {
   "cell_type": "code",
   "execution_count": 3,
   "id": "63a53271",
   "metadata": {},
   "outputs": [],
   "source": [
    "df = pd.read_csv('Skin_NonSkin.txt', delimiter=\"\\t\", header=None, names=['B', 'G', 'R', 'label'])"
   ]
  },
  {
   "cell_type": "code",
   "execution_count": 4,
   "id": "41c620a2",
   "metadata": {},
   "outputs": [
    {
     "data": {
      "text/plain": [
       "((196045, 3), (49012, 3), (196045,), (49012,))"
      ]
     },
     "execution_count": 4,
     "metadata": {},
     "output_type": "execute_result"
    }
   ],
   "source": [
    "x_train, x_test, y_train, y_test = train_test_split(df[['R','B','G']].values, df['label'].values, test_size=0.2, random_state=0)\n",
    "x_train.shape, x_test.shape, y_train.shape, y_test.shape"
   ]
  },
  {
   "cell_type": "code",
   "execution_count": 6,
   "id": "c2bdf482",
   "metadata": {},
   "outputs": [],
   "source": [
    "scaler = StandardScaler().fit(x_train)"
   ]
  },
  {
   "cell_type": "code",
   "execution_count": 7,
   "id": "398accf8",
   "metadata": {},
   "outputs": [],
   "source": [
    "x_train_scaled = scaler.transform(x_train)\n",
    "x_test_scaled = scaler.transform(x_test)"
   ]
  },
  {
   "cell_type": "code",
   "execution_count": 8,
   "id": "af6555f7",
   "metadata": {},
   "outputs": [
    {
     "data": {
      "text/plain": [
       "((196045, 3), (49012, 3))"
      ]
     },
     "execution_count": 8,
     "metadata": {},
     "output_type": "execute_result"
    }
   ],
   "source": [
    "x_train_scaled.shape, x_test_scaled.shape"
   ]
  },
  {
   "cell_type": "code",
   "execution_count": 64,
   "id": "a9f24e73",
   "metadata": {},
   "outputs": [],
   "source": [
    "from dataclasses import dataclass\n",
    "from typing import Tuple\n",
    "import torch\n",
    "import numpy as np\n",
    "\n",
    "@dataclass(eq=False)\n",
    "class SkinDataset(torch.utils.data.Dataset):\n",
    "    data: np.ndarray\n",
    "    labels: np.ndarray\n",
    "\n",
    "    def __new__(cls, *args, **kwargs):\n",
    "        obj = object.__new__(cls)\n",
    "        torch.utils.data.Dataset.__init__(obj)\n",
    "        return obj\n",
    "\n",
    "    def __post_init__(self):\n",
    "        self.data = self.data.astype(np.float32)\n",
    "        self.labels = self.labels - 1\n",
    "        \n",
    "    def __len__(self) -> int:\n",
    "        return self.data.shape[0]\n",
    "    \n",
    "    def __getitem__(self, idx: int) -> Tuple[np.ndarray, int]:\n",
    "        return self.data[idx, ::], self.labels[idx]"
   ]
  },
  {
   "cell_type": "code",
   "execution_count": 65,
   "id": "9dacc091",
   "metadata": {},
   "outputs": [],
   "source": [
    "ds_train = SkinDataset(x_train_scaled, y_train)\n",
    "ds_test = SkinDataset(x_test_scaled, y_test)"
   ]
  },
  {
   "cell_type": "code",
   "execution_count": 66,
   "id": "d0821de9",
   "metadata": {},
   "outputs": [],
   "source": [
    "from torch.utils.data import DataLoader\n",
    "\n",
    "BATCH_SIZE: int = 256\n",
    "\n",
    "dl_train = DataLoader(ds_train, shuffle=True, batch_size=BATCH_SIZE, drop_last=False)\n",
    "dl_test = DataLoader(ds_test, shuffle=False, batch_size=BATCH_SIZE, drop_last=False)"
   ]
  },
  {
   "cell_type": "code",
   "execution_count": 106,
   "id": "cf98e0e9",
   "metadata": {},
   "outputs": [],
   "source": [
    "from typing import Any\n",
    "import pytorch_lightning as pl\n",
    "import torchmetrics\n",
    "\n",
    "class SkinMLP(pl.LightningModule):\n",
    "\n",
    "    def __init__(self, loss: callable) -> None:\n",
    "        super().__init__()\n",
    "        self.mlp = torch.nn.Sequential(\n",
    "            torch.nn.Linear(3, 100),\n",
    "            torch.nn.ReLU(),\n",
    "            torch.nn.Linear(100, 500),\n",
    "            torch.nn.ReLU(),\n",
    "            torch.nn.Linear(500, 2),\n",
    "        )\n",
    "        self.loss = loss\n",
    "\n",
    "\n",
    "    def forward(self, x: torch.Tensor) -> torch.Tensor:\n",
    "        return self.mlp(x)\n",
    "\n",
    "    def _step(self, batch) -> torch.Tensor:\n",
    "        x, y = batch\n",
    "        pred = self.forward(x)\n",
    "        loss = self.loss(pred, y)\n",
    "        return pred, loss\n",
    "\n",
    "    def training_step(self, batch) -> torch.Tensor:\n",
    "        pred, loss = self._step(batch)\n",
    "        self.log(\"train/loss\", loss)\n",
    "        pred = torch.argmax(torch.nn.functional.softmax(pred), dim=1)\n",
    "        auc = torchmetrics.functional.auc(pred, batch[-1], reorder=True)\n",
    "        self.log(\"train/auc\", auc)\n",
    "        return loss\n",
    "\n",
    "    def on_test_epoch_start(self) -> None:\n",
    "        self.auc = torchmetrics.AUC(reorder=True)\n",
    "\n",
    "    def test_step(self, batch: torch.Tensor, batch_idx: int) -> torch.Tensor:\n",
    "        pred, loss = self._step(batch)\n",
    "        self.log(\"test\", loss)\n",
    "        pred = torch.argmax(torch.nn.functional.softmax(pred), dim=1)\n",
    "        self.auc.update(pred, batch[-1])\n",
    "\n",
    "    def test_epoch_end(self, outputs) -> None:\n",
    "        print(self.auc.compute())\n",
    "\n",
    "    def configure_optimizers(self) -> Any:\n",
    "        optim = torch.optim.Adam(self.parameters())\n",
    "        return optim"
   ]
  },
  {
   "cell_type": "code",
   "execution_count": 107,
   "id": "353b09f4",
   "metadata": {},
   "outputs": [
    {
     "name": "stderr",
     "output_type": "stream",
     "text": [
      "GPU available: False, used: False\n",
      "TPU available: False, using: 0 TPU cores\n",
      "IPU available: False, using: 0 IPUs\n",
      "HPU available: False, using: 0 HPUs\n",
      "\n",
      "  | Name | Type             | Params\n",
      "------------------------------------------\n",
      "0 | mlp  | Sequential       | 51.9 K\n",
      "1 | loss | CrossEntropyLoss | 0     \n",
      "------------------------------------------\n",
      "51.9 K    Trainable params\n",
      "0         Non-trainable params\n",
      "51.9 K    Total params\n",
      "0.208     Total estimated model params size (MB)\n",
      "/home/paul/workspaces/PycharmProjects/practical_pytorch_dl/venv/lib/python3.10/site-packages/pytorch_lightning/trainer/connectors/data_connector.py:224: PossibleUserWarning: The dataloader, train_dataloader, does not have many workers which may be a bottleneck. Consider increasing the value of the `num_workers` argument` (try 8 which is the number of cpus on this machine) in the `DataLoader` init to improve performance.\n",
      "  rank_zero_warn(\n"
     ]
    },
    {
     "data": {
      "application/vnd.jupyter.widget-view+json": {
       "model_id": "b31959e8dca649459382ca9dc2861663",
       "version_major": 2,
       "version_minor": 0
      },
      "text/plain": [
       "Training: 0it [00:00, ?it/s]"
      ]
     },
     "metadata": {},
     "output_type": "display_data"
    },
    {
     "name": "stderr",
     "output_type": "stream",
     "text": [
      "/tmp/ipykernel_264311/3533735106.py:31: UserWarning: Implicit dimension choice for softmax has been deprecated. Change the call to include dim=X as an argument.\n",
      "  pred = torch.argmax(torch.nn.functional.softmax(pred), dim=1)\n",
      "`Trainer.fit` stopped: `max_epochs=10` reached.\n"
     ]
    }
   ],
   "source": [
    "loss = torch.nn.CrossEntropyLoss()\n",
    "model = SkinMLP(loss)\n",
    "x, y = next(iter(dl_train))\n",
    "\n",
    "trainer = pl.Trainer(max_epochs=10, enable_progress_bar=True)\n",
    "\n",
    "trainer.fit(model, train_dataloaders=dl_train)\n"
   ]
  },
  {
   "cell_type": "code",
   "execution_count": 108,
   "id": "4b5f9725",
   "metadata": {},
   "outputs": [
    {
     "name": "stderr",
     "output_type": "stream",
     "text": [
      "/home/paul/workspaces/PycharmProjects/practical_pytorch_dl/venv/lib/python3.10/site-packages/pytorch_lightning/trainer/connectors/data_connector.py:224: PossibleUserWarning: The dataloader, test_dataloader 0, does not have many workers which may be a bottleneck. Consider increasing the value of the `num_workers` argument` (try 8 which is the number of cpus on this machine) in the `DataLoader` init to improve performance.\n",
      "  rank_zero_warn(\n"
     ]
    },
    {
     "data": {
      "application/vnd.jupyter.widget-view+json": {
       "model_id": "34f1817690564272b04541afacc0ff46",
       "version_major": 2,
       "version_minor": 0
      },
      "text/plain": [
       "Testing: 0it [00:00, ?it/s]"
      ]
     },
     "metadata": {},
     "output_type": "display_data"
    },
    {
     "name": "stderr",
     "output_type": "stream",
     "text": [
      "/home/paul/workspaces/PycharmProjects/practical_pytorch_dl/venv/lib/python3.10/site-packages/torchmetrics/utilities/prints.py:36: UserWarning: Metric `AUC` will save all targets and predictions in buffer. For large datasets this may lead to large memory footprint.\n",
      "  warnings.warn(*args, **kwargs)\n",
      "/tmp/ipykernel_264311/3533735106.py:42: UserWarning: Implicit dimension choice for softmax has been deprecated. Change the call to include dim=X as an argument.\n",
      "  pred = torch.argmax(torch.nn.functional.softmax(pred), dim=1)\n"
     ]
    },
    {
     "name": "stdout",
     "output_type": "stream",
     "text": [
      "tensor(0.5000)\n",
      "────────────────────────────────────────────────────────────────────────────────────────────────────────────────────────\n",
      "       Test metric             DataLoader 0\n",
      "────────────────────────────────────────────────────────────────────────────────────────────────────────────────────────\n",
      "          test             0.0026423181407153606\n",
      "────────────────────────────────────────────────────────────────────────────────────────────────────────────────────────\n"
     ]
    },
    {
     "data": {
      "text/plain": [
       "[{'test': 0.0026423181407153606}]"
      ]
     },
     "execution_count": 108,
     "metadata": {},
     "output_type": "execute_result"
    }
   ],
   "source": [
    "trainer.test(model, dataloaders=dl_test)"
   ]
  }
 ],
 "metadata": {
  "kernelspec": {
   "display_name": "Python 3.10.8 ('venv': venv)",
   "language": "python",
   "name": "python3"
  },
  "language_info": {
   "codemirror_mode": {
    "name": "ipython",
    "version": 3
   },
   "file_extension": ".py",
   "mimetype": "text/x-python",
   "name": "python",
   "nbconvert_exporter": "python",
   "pygments_lexer": "ipython3",
   "version": "3.10.8"
  },
  "vscode": {
   "interpreter": {
    "hash": "1cd52e3fcb9baaa40b3d605a6296e70b2d59f0509251b8daccec7a45dc12b452"
   }
  }
 },
 "nbformat": 4,
 "nbformat_minor": 5
}
