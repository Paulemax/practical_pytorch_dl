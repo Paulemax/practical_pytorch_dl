{
 "cells": [
  {
   "cell_type": "code",
   "execution_count": 1,
   "id": "59770c81",
   "metadata": {},
   "outputs": [],
   "source": [
    "import torch\n",
    "import matplotlib.pyplot as plt\n",
    "import numpy as np\n",
    "from torch.optim.optimizer import Optimizer"
   ]
  },
  {
   "cell_type": "code",
   "execution_count": 2,
   "id": "27ff7bbd",
   "metadata": {},
   "outputs": [],
   "source": [
    "class SGD(Optimizer):\n",
    "    \"\"\"SGD\n",
    "    \"\"\"\n",
    "\n",
    "    def __init__(\n",
    "        self,\n",
    "        params,\n",
    "        lr = 1e-3\n",
    "    ):\n",
    "        \n",
    "        defaults = dict(\n",
    "            lr=lr\n",
    "        )\n",
    "        super(SGD, self).__init__(params, defaults)\n",
    "\n",
    "    def step(self):\n",
    "        \"\"\"Performs a single optimization step.\n",
    "        \"\"\"\n",
    "        for group in self.param_groups:\n",
    "            lr = group[\"lr\"]\n",
    "            \n",
    "            for p in group['params']:\n",
    "                # the grad attribute is set by the backwards pass... here we just need to use it's value\n",
    "                p -= lr * p.grad\n"
   ]
  },
  {
   "cell_type": "code",
   "execution_count": 89,
   "id": "72ea45a6",
   "metadata": {},
   "outputs": [],
   "source": [
    "import torch\n",
    "\n",
    "class Adam(Optimizer):\n",
    "    \"\"\"Adam optimizer\n",
    "    \"\"\"\n",
    "\n",
    "    def __init__(\n",
    "        self,\n",
    "        params,\n",
    "        lr= 1e-3,\n",
    "        betas = (0.9, 0.999),\n",
    "        eps = 1e-8\n",
    "    ):\n",
    "\n",
    "        defaults = dict(\n",
    "            lr=lr,\n",
    "            betas=betas,\n",
    "            eps=eps,)\n",
    "        super(Adam, self).__init__(params, defaults)\n",
    "        # initialize hyper parameters for every parameter\n",
    "        self.param_groups = []\n",
    "        for param in params:\n",
    "            print(param)\n",
    "            d = {}\n",
    "            d[\"lr\"] = torch.empty(size=(param.shape)).fill(lr)\n",
    "            d[\"betas\"] = (torch.empty(size=(param.shape)).fill(betas[0]), torch.empty(size=(param.shape)).fill(betas[0]))\n",
    "            d[\"eps\"] = torch.empty(size=(param.shape)).fill(eps)\n",
    "\n",
    "    def __setstate__(self, state):\n",
    "        super(Adam, self).__setstate__(state)\n",
    "\n",
    "    def step(self):\n",
    "        r\"\"\"Performs a single optimization step.\n",
    "        \"\"\"\n",
    "\n",
    "        for group in self.param_groups:\n",
    "            lr = group['lr']\n",
    "            beta1, beta2 = group['betas']\n",
    "            eps = group['eps']\n",
    "\n",
    "            for p in group['params']:\n",
    "                #TODO store the optimizer state (step, exp_avg, exp_avg_sq) in self.state[p] (create before first step)\n",
    "                \n",
    "                #TODO update optimizer state\n",
    "                \n",
    "                #TODO calculate debiased exp_av and exp_avg_sq\n",
    "                \n",
    "                #TODO perform the actual update"
   ]
  }
 ],
 "metadata": {
  "kernelspec": {
   "display_name": "Python 3.10.8 ('venv': venv)",
   "language": "python",
   "name": "python3"
  },
  "language_info": {
   "codemirror_mode": {
    "name": "ipython",
    "version": 3
   },
   "file_extension": ".py",
   "mimetype": "text/x-python",
   "name": "python",
   "nbconvert_exporter": "python",
   "pygments_lexer": "ipython3",
   "version": "3.10.8"
  },
  "vscode": {
   "interpreter": {
    "hash": "1cd52e3fcb9baaa40b3d605a6296e70b2d59f0509251b8daccec7a45dc12b452"
   }
  }
 },
 "nbformat": 4,
 "nbformat_minor": 5
}
