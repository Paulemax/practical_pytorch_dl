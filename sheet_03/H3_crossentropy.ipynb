{
 "cells": [
  {
   "cell_type": "markdown",
   "metadata": {},
   "source": [
    "# Part b and c\n",
    "\n",
    "<img src=\"results/math.png\"  width=\"40%\" height=\"15%\">"
   ]
  },
  {
   "cell_type": "code",
   "execution_count": 25,
   "metadata": {},
   "outputs": [],
   "source": [
    "# Part d\n",
    "import torch\n",
    "\n",
    "# Does only work for 1d input Tensors. Since we only derived this expression i did not look at the n-d case. \n",
    "def cross_entropy(pred: torch.Tensor, target: torch.Tensor):\n",
    "    return -torch.sum(target*(pred-torch.logsumexp(pred, dim=0)))"
   ]
  },
  {
   "cell_type": "code",
   "execution_count": 35,
   "metadata": {},
   "outputs": [
    {
     "name": "stdout",
     "output_type": "stream",
     "text": [
      "preds: tensor([-0.2777,  1.1182, -0.7202, -0.6405,  0.6358]) \n",
      "target: tensor([0., 2., 2., 2., 2.])\n",
      "Torch CE: 14.45296859741211\n",
      "My CE: 14.45296859741211\n"
     ]
    }
   ],
   "source": [
    "# part e verification \n",
    "pred = torch.randn(5)\n",
    "target = torch.empty(5).random_(5).float()\n",
    "\n",
    "print(f\"preds: {pred.data} \\ntarget: {target.data}\")\n",
    "\n",
    "print(f\"Torch CE: {torch.nn.functional.cross_entropy(pred, target)}\")\n",
    "print(f\"My CE: {cross_entropy(pred, target)}\")\n"
   ]
  }
 ],
 "metadata": {
  "kernelspec": {
   "display_name": "Python 3.10.8 ('venv': venv)",
   "language": "python",
   "name": "python3"
  },
  "language_info": {
   "codemirror_mode": {
    "name": "ipython",
    "version": 3
   },
   "file_extension": ".py",
   "mimetype": "text/x-python",
   "name": "python",
   "nbconvert_exporter": "python",
   "pygments_lexer": "ipython3",
   "version": "3.10.8"
  },
  "orig_nbformat": 4,
  "vscode": {
   "interpreter": {
    "hash": "1cd52e3fcb9baaa40b3d605a6296e70b2d59f0509251b8daccec7a45dc12b452"
   }
  }
 },
 "nbformat": 4,
 "nbformat_minor": 2
}
