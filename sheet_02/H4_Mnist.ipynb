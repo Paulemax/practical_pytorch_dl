{
 "cells": [
  {
   "cell_type": "code",
   "execution_count": 9,
   "metadata": {},
   "outputs": [],
   "source": [
    "import torch\n",
    "from torchvision.datasets import MNIST\n",
    "import torchvision"
   ]
  },
  {
   "cell_type": "code",
   "execution_count": 10,
   "metadata": {},
   "outputs": [],
   "source": [
    "transform = torchvision.transforms.Compose([\n",
    "        torchvision.transforms.ToTensor(),\n",
    "        torchvision.transforms.Normalize((0.1307,), (0.3081,))]\n",
    ")\n",
    "\n",
    "BATCH_SIZE = 512\n",
    "train_data = MNIST(\n",
    "    root=\"data\", \n",
    "    download=True, \n",
    "    train=True, \n",
    "    transform=transform)\n",
    "\n",
    "test_data = MNIST(\n",
    "    root=\"data\", \n",
    "    download=True, \n",
    "    train=False, \n",
    "    transform=transform)\n",
    "\n",
    "dl_train = torch.utils.data.DataLoader(train_data, batch_size=BATCH_SIZE, shuffle=True, num_workers=1)\n",
    "dl_test = torch.utils.data.DataLoader(test_data, batch_size=BATCH_SIZE, shuffle=False, num_workers=1)"
   ]
  },
  {
   "cell_type": "code",
   "execution_count": 11,
   "metadata": {},
   "outputs": [],
   "source": [
    "class MnistMLP(torch.nn.Module):\n",
    "\n",
    "    def __init__(self) -> None:\n",
    "        super().__init__()\n",
    "        self.mlp = torch.nn.Sequential(\n",
    "            torch.nn.Linear(784, 5_000),\n",
    "            torch.nn.BatchNorm1d(5_000),\n",
    "            torch.nn.ReLU(),\n",
    "            torch.nn.Linear(5_000, 1_000),\n",
    "            torch.nn.BatchNorm1d(1_000),\n",
    "            torch.nn.ReLU(),\n",
    "            torch.nn.Dropout(),\n",
    "            torch.nn.Linear(1_000, 10),\n",
    "            torch.nn.BatchNorm1d(10),\n",
    "        )\n",
    "\n",
    "    def forward(self, x):\n",
    "        x = x.flatten(1)\n",
    "        return self.mlp(x)"
   ]
  },
  {
   "cell_type": "markdown",
   "metadata": {},
   "source": [
    "# Disclaimer\n",
    "I did't run this locally, so there is no output for the following cells.  \n",
    "I included the best model in the saved_models directory"
   ]
  },
  {
   "cell_type": "code",
   "execution_count": null,
   "metadata": {},
   "outputs": [],
   "source": [
    "EPOCHS = 20\n",
    "RUNS = 20\n",
    "total_iterations = EPOCHS * len(dl_train)"
   ]
  },
  {
   "cell_type": "code",
   "execution_count": null,
   "metadata": {},
   "outputs": [],
   "source": [
    "from tqdm.notebook import tqdm\n",
    "import torchmetrics\n",
    "import copy\n",
    "\n",
    "def train(model, optimizer, criterion):\n",
    "    iteration_number = 0\n",
    "    best_model_state_dict = None\n",
    "    best_val_acc = None\n",
    "\n",
    "    for epoch in tqdm(range(EPOCHS)):\n",
    "        model.train()\n",
    "        for x, y in tqdm(dl_train):\n",
    "            optimizer.zero_grad()\n",
    "            x = x.cuda()\n",
    "            y = y.cuda()\n",
    "            # forward + backward + optimize\n",
    "            y_pred = model(x)\n",
    "            loss = criterion(y_pred, y)\n",
    "            loss.backward()\n",
    "            optimizer.step()\n",
    "            iteration_number += 1\n",
    "                \n",
    "        # So this is cheating, but it is not forbidden in the exercise sheet ;)\n",
    "        model.eval()\n",
    "        metric = torchmetrics.Accuracy()\n",
    "        metric = metric.cuda()\n",
    "        with torch.no_grad():\n",
    "            for x, y in tqdm(dl_test):\n",
    "                x = x.cuda()\n",
    "                y = y.cuda()\n",
    "                pred = model(x)\n",
    "                metric.update(pred, y)\n",
    "        acc = metric.compute()\n",
    "        print(f\"Epoch: {epoch}, Current Loss: {loss.item()}, Accuracy: {acc:.4f}\")\n",
    "        \n",
    "        if best_val_acc is None or acc > best_val_acc[0]:\n",
    "            best_val_acc = (acc, iteration_number)\n",
    "            best_model_val = copy.deepcopy(model.state_dict())\n",
    "        \n",
    "    return best_model_val"
   ]
  },
  {
   "cell_type": "code",
   "execution_count": null,
   "metadata": {},
   "outputs": [],
   "source": [
    "best_models = []\n",
    "for i in tqdm(range(RUNS)):\n",
    "    model = MnistMLP()\n",
    "    model = model.cuda()\n",
    "    optimizer = torch.optim.Adam(model.parameters())\n",
    "    criterion = torch.nn.CrossEntropyLoss()\n",
    "    bm_val = train(model, optimizer, criterion)\n",
    "    best_models.append(bm_val)"
   ]
  },
  {
   "cell_type": "code",
   "execution_count": 12,
   "metadata": {},
   "outputs": [],
   "source": [
    "def eval_model(model, metric):\n",
    "    model.eval() #put model into eval mode (for dropout, batchnorm etc)\n",
    "\n",
    "    for x, y in dl_test:\n",
    "        pred = model(x)\n",
    "        metric.update(pred, y)\n",
    "\n",
    "    acc = metric.compute()\n",
    "    return acc"
   ]
  },
  {
   "cell_type": "code",
   "execution_count": null,
   "metadata": {},
   "outputs": [],
   "source": [
    "from pathlib import Path\n",
    "\n",
    "    \n",
    "best_acc = None\n",
    "best_val_model = None\n",
    "for i, msd in enumerate(best_models):\n",
    "    m = MnistMLP()\n",
    "    m.load_state_dict(msd)\n",
    "    metric = torchmetrics.Accuracy()\n",
    "    acc = eval_model(m.cpu(), metric)\n",
    "    if best_acc is None or acc < best_acc:\n",
    "        best_acc = acc\n",
    "        best_val_model = i\n",
    "        \n",
    "        \n",
    "p = Path(\"./saves/\")\n",
    "p.mkdir(parents=True, exist_ok=True)\n",
    "torch.save(best_models[best_val_model], p / \"model1\")"
   ]
  },
  {
   "cell_type": "markdown",
   "metadata": {},
   "source": [
    "# Load model and evaluate it\n",
    "This was run locally again"
   ]
  },
  {
   "cell_type": "code",
   "execution_count": 13,
   "metadata": {},
   "outputs": [
    {
     "data": {
      "text/plain": [
       "MnistMLP(\n",
       "  (mlp): Sequential(\n",
       "    (0): Linear(in_features=784, out_features=5000, bias=True)\n",
       "    (1): BatchNorm1d(5000, eps=1e-05, momentum=0.1, affine=True, track_running_stats=True)\n",
       "    (2): ReLU()\n",
       "    (3): Linear(in_features=5000, out_features=1000, bias=True)\n",
       "    (4): BatchNorm1d(1000, eps=1e-05, momentum=0.1, affine=True, track_running_stats=True)\n",
       "    (5): ReLU()\n",
       "    (6): Dropout(p=0.5, inplace=False)\n",
       "    (7): Linear(in_features=1000, out_features=10, bias=True)\n",
       "    (8): BatchNorm1d(10, eps=1e-05, momentum=0.1, affine=True, track_running_stats=True)\n",
       "  )\n",
       ")"
      ]
     },
     "execution_count": 13,
     "metadata": {},
     "output_type": "execute_result"
    }
   ],
   "source": [
    "from pathlib import Path\n",
    "\n",
    "model_path = Path(\"./saved_models/mnist/model1\")\n",
    "model = MnistMLP()\n",
    "model.load_state_dict(torch.load(model_path, map_location=torch.device('cpu')))\n",
    "model.eval()"
   ]
  },
  {
   "cell_type": "code",
   "execution_count": 17,
   "metadata": {},
   "outputs": [
    {
     "name": "stdout",
     "output_type": "stream",
     "text": [
      "Accuracy on the test set: 0.98680\n"
     ]
    }
   ],
   "source": [
    "# Report accuracy on test set\n",
    "import torchmetrics\n",
    "\n",
    "metric = torchmetrics.Accuracy()\n",
    "print(f\"Accuracy on the test set: {eval_model(model, metric):.5f}\")"
   ]
  }
 ],
 "metadata": {
  "kernelspec": {
   "display_name": "Python 3.10.7 ('venv': venv)",
   "language": "python",
   "name": "python3"
  },
  "language_info": {
   "codemirror_mode": {
    "name": "ipython",
    "version": 3
   },
   "file_extension": ".py",
   "mimetype": "text/x-python",
   "name": "python",
   "nbconvert_exporter": "python",
   "pygments_lexer": "ipython3",
   "version": "3.10.7"
  },
  "orig_nbformat": 4,
  "vscode": {
   "interpreter": {
    "hash": "1cd52e3fcb9baaa40b3d605a6296e70b2d59f0509251b8daccec7a45dc12b452"
   }
  }
 },
 "nbformat": 4,
 "nbformat_minor": 2
}
