{
 "cells": [
  {
   "cell_type": "code",
   "execution_count": 1,
   "metadata": {},
   "outputs": [],
   "source": [
    "import torch"
   ]
  },
  {
   "cell_type": "code",
   "execution_count": 22,
   "metadata": {},
   "outputs": [],
   "source": [
    "import torch\n",
    "\n",
    "class CustomConvLayer(torch.nn.Module):\n",
    "\n",
    "    def __init__(self, kernel_size, kernel=None, bias=None) -> None:\n",
    "        super().__init__()\n",
    "        if kernel is None:\n",
    "            kernel = torch.randn(kernel_size)\n",
    "        if bias is None:\n",
    "            bias = torch.randn(1)\n",
    "        self.kernel = torch.nn.Parameter(kernel)\n",
    "        self.bias = torch.nn.Parameter(bias)\n",
    "\n",
    "    def forward(self, x):\n",
    "        # calculate final dimensions\n",
    "        k0, k1 = self.kernel.shape\n",
    "        n = x.shape[0] - k0 + 1\n",
    "        m = x.shape[1] - k1 + 1\n",
    "        conv = torch.empty((n, m))\n",
    "        for i in range(n):\n",
    "            for j in range(m):\n",
    "                conv[i, j] = torch.sum(x[i:i+k0, j:j+k1] *  self.kernel) + self.bias\n",
    "        # no padding so dimensionality decreases\n",
    "        return conv"
   ]
  },
  {
   "cell_type": "code",
   "execution_count": 26,
   "metadata": {},
   "outputs": [
    {
     "name": "stdout",
     "output_type": "stream",
     "text": [
      "tensor([1.])\n",
      "tensor([[ 1.6316,  3.0112, -0.4925],\n",
      "        [ 0.9252, -1.7281,  1.9212],\n",
      "        [ 1.6339,  4.5458,  0.8334]], grad_fn=<CopySlices>)\n",
      "tensor([[[[ 1.6316,  3.0112, -0.4925],\n",
      "          [ 0.9252, -1.7281,  1.9212],\n",
      "          [ 1.6339,  4.5458,  0.8334]]]])\n",
      "tensor([[[[False, False, False],\n",
      "          [False,  True, False],\n",
      "          [ True,  True,  True]]]])\n"
     ]
    }
   ],
   "source": [
    "from torch.nn.functional import conv2d\n",
    "bias = torch.empty(1).fill_(1.)\n",
    "kernel = torch.eye(3)\n",
    "\n",
    "conv_custom = CustomConvLayer((3, 3), kernel=kernel, bias=bias)\n",
    "#conv_torch = \n",
    "\n",
    "a = torch.randn(5, 5)\n",
    "r_custom = conv_custom(a)\n",
    "\n",
    "# unsqueeze because torch expects batch and channel which my implementation ignores\n",
    "a.unsqueeze_(0)\n",
    "a.unsqueeze_(0)\n",
    "kernel.unsqueeze_(0)\n",
    "kernel.unsqueeze_(0)\n",
    "r_torch = conv2d(a, weight=kernel, bias=bias)\n",
    "\n",
    "print(r_custom)\n",
    "print(r_torch)"
   ]
  },
  {
   "cell_type": "code",
   "execution_count": 27,
   "metadata": {},
   "outputs": [
    {
     "name": "stdout",
     "output_type": "stream",
     "text": [
      "tensor([[ 1.7726,  3.8378, -2.1831],\n",
      "        [ 3.9326,  0.6296,  0.7809],\n",
      "        [-0.8454,  1.6290,  3.9339]], grad_fn=<CopySlices>)\n",
      "tensor([[[[ 1.7726,  3.8378, -2.1831],\n",
      "          [ 3.9326,  0.6296,  0.7809],\n",
      "          [-0.8454,  1.6290,  3.9339]]]])\n"
     ]
    }
   ],
   "source": [
    "# again but with a random kernel and bias\n",
    "bias = torch.randn(1)\n",
    "kernel = torch.randn((3, 3))\n",
    "\n",
    "conv_custom = CustomConvLayer((3, 3), kernel=kernel, bias=bias)\n",
    "#conv_torch = \n",
    "\n",
    "a = torch.randn(5, 5)\n",
    "r_custom = conv_custom(a)\n",
    "\n",
    "# unsqueeze because torch expects batch and channel which my implementation ignores\n",
    "a.unsqueeze_(0)\n",
    "a.unsqueeze_(0)\n",
    "kernel.unsqueeze_(0)\n",
    "kernel.unsqueeze_(0)\n",
    "r_torch = conv2d(a, weight=kernel, bias=bias)\n",
    "\n",
    "print(r_custom)\n",
    "print(r_torch)"
   ]
  }
 ],
 "metadata": {
  "kernelspec": {
   "display_name": "Python 3.10.8 ('venv': venv)",
   "language": "python",
   "name": "python3"
  },
  "language_info": {
   "codemirror_mode": {
    "name": "ipython",
    "version": 3
   },
   "file_extension": ".py",
   "mimetype": "text/x-python",
   "name": "python",
   "nbconvert_exporter": "python",
   "pygments_lexer": "ipython3",
   "version": "3.10.8"
  },
  "orig_nbformat": 4,
  "vscode": {
   "interpreter": {
    "hash": "1cd52e3fcb9baaa40b3d605a6296e70b2d59f0509251b8daccec7a45dc12b452"
   }
  }
 },
 "nbformat": 4,
 "nbformat_minor": 2
}
